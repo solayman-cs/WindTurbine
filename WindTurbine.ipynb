{
 "cells": [
  {
   "cell_type": "code",
   "execution_count": 27,
   "id": "b47373bf",
   "metadata": {},
   "outputs": [],
   "source": [
    "import os\n",
    "import cv2\n",
    "from pathlib import Path\n",
    "import matplotlib.pyplot as plt\n",
    "%matplotlib inline"
   ]
  },
  {
   "cell_type": "code",
   "execution_count": 6,
   "id": "eca3b3c8",
   "metadata": {},
   "outputs": [
    {
     "data": {
      "text/plain": [
       "'C:\\\\Users\\\\Solayman\\\\Downloads\\\\WindTurbine_DataSet'"
      ]
     },
     "execution_count": 6,
     "metadata": {},
     "output_type": "execute_result"
    }
   ],
   "source": [
    "os.getcwd()"
   ]
  },
  {
   "cell_type": "code",
   "execution_count": 11,
   "id": "6bb363f7",
   "metadata": {},
   "outputs": [],
   "source": [
    "os.chdir('C:\\\\Users\\\\Solayman\\\\Downloads\\\\WindTurbine_DataSet\\\\mask_raw')"
   ]
  },
  {
   "cell_type": "code",
   "execution_count": 17,
   "id": "c6761877",
   "metadata": {},
   "outputs": [],
   "source": [
    "raw_path = 'C:\\\\Users\\\\Solayman\\\\Downloads\\\\WindTurbine_DataSet\\\\mask_raw'\n",
    "new_path = 'C:\\\\Users\\\\Solayman\\\\Downloads\\\\WindTurbine_DataSet\\\\masks'"
   ]
  },
  {
   "cell_type": "code",
   "execution_count": 19,
   "id": "620ba061",
   "metadata": {},
   "outputs": [
    {
     "name": "stdout",
     "output_type": "stream",
     "text": [
      "blk_wht.png\n",
      "segmentation_1.png\n",
      "segmentation_10.png\n",
      "segmentation_11.png\n",
      "segmentation_12.png\n",
      "segmentation_13.png\n",
      "segmentation_14.png\n",
      "segmentation_15.png\n",
      "segmentation_16.png\n",
      "segmentation_17.png\n",
      "segmentation_18.png\n",
      "segmentation_19.png\n",
      "segmentation_2.png\n",
      "segmentation_20.png\n",
      "segmentation_21.png\n",
      "segmentation_22.png\n",
      "segmentation_23.png\n",
      "segmentation_24.png\n",
      "segmentation_25.png\n",
      "segmentation_26.png\n",
      "segmentation_27.png\n",
      "segmentation_28.png\n",
      "segmentation_29.png\n",
      "segmentation_3.png\n",
      "segmentation_30.png\n",
      "segmentation_31.png\n",
      "segmentation_32.png\n",
      "segmentation_33.png\n",
      "segmentation_34.png\n",
      "segmentation_35.png\n",
      "segmentation_36.png\n",
      "segmentation_37.png\n",
      "segmentation_38.png\n",
      "segmentation_39.png\n",
      "segmentation_4.png\n",
      "segmentation_40.png\n",
      "segmentation_41.png\n",
      "segmentation_42.png\n",
      "segmentation_43.png\n",
      "segmentation_44.png\n",
      "segmentation_45.png\n",
      "segmentation_46.png\n",
      "segmentation_47.png\n",
      "segmentation_48.png\n",
      "segmentation_49.png\n",
      "segmentation_5.png\n",
      "segmentation_50.png\n",
      "segmentation_51.png\n",
      "segmentation_52.png\n",
      "segmentation_53.png\n",
      "segmentation_54.png\n",
      "segmentation_55.png\n",
      "segmentation_56.png\n",
      "segmentation_57.png\n",
      "segmentation_58.png\n",
      "segmentation_59.png\n",
      "segmentation_6.png\n",
      "segmentation_60.png\n",
      "segmentation_61.png\n",
      "segmentation_62.png\n",
      "segmentation_63.png\n",
      "segmentation_64.png\n",
      "segmentation_65.png\n",
      "segmentation_66.png\n",
      "segmentation_67.png\n",
      "segmentation_68.png\n",
      "segmentation_69.png\n",
      "segmentation_7.png\n",
      "segmentation_70.png\n",
      "segmentation_71.png\n",
      "segmentation_72.png\n",
      "segmentation_73.png\n",
      "segmentation_74.png\n",
      "segmentation_75.png\n",
      "segmentation_76.png\n",
      "segmentation_77.png\n",
      "segmentation_78.png\n",
      "segmentation_79.png\n",
      "segmentation_8.png\n",
      "segmentation_80.png\n",
      "segmentation_81.png\n",
      "segmentation_9.png\n"
     ]
    }
   ],
   "source": [
    "for file in os.listdir(raw_path):\n",
    "    if (file.endswith(\".png\")):\n",
    "        print(file)"
   ]
  },
  {
   "cell_type": "code",
   "execution_count": 33,
   "id": "e7292ec4",
   "metadata": {},
   "outputs": [],
   "source": [
    "for file in os.listdir(raw_path):\n",
    "    current_image = cv2.imread(file, cv2.IMREAD_GRAYSCALE)\n",
    "    # transformation\n",
    "    thresh = 128\n",
    "    img_binary = cv2.threshold(current_image, thresh, 255, cv2.THRESH_BINARY)[1]\n",
    "    cv2.imwrite(new_path+'/'+file, img_binary)\n",
    "    # plt.imsave(Path(new_path)/str(file), img_binary)\n",
    "    "
   ]
  },
  {
   "cell_type": "code",
   "execution_count": 34,
   "id": "b8672efc",
   "metadata": {},
   "outputs": [],
   "source": [
    "## Imports\n",
    "import os\n",
    "import sys\n",
    "import random\n",
    "\n",
    "import numpy as np\n",
    "import cv2\n",
    "import matplotlib.pyplot as plt\n",
    "\n",
    "import tensorflow as tf\n",
    "from tensorflow import keras\n",
    "\n",
    "## Seeding \n",
    "seed = 2019\n",
    "random.seed = seed\n",
    "np.random.seed = seed\n",
    "tf.seed = seed"
   ]
  },
  {
   "cell_type": "code",
   "execution_count": 47,
   "id": "096b9126",
   "metadata": {},
   "outputs": [
    {
     "name": "stdout",
     "output_type": "stream",
     "text": [
      "['rgb_1.png', 'rgb_10.png', 'rgb_11.png', 'rgb_12.png', 'rgb_13.png', 'rgb_14.png', 'rgb_15.png', 'rgb_16.png', 'rgb_17.png', 'rgb_18.png', 'rgb_19.png', 'rgb_2.png', 'rgb_20.png', 'rgb_21.png', 'rgb_22.png', 'rgb_23.png', 'rgb_24.png', 'rgb_25.png', 'rgb_26.png', 'rgb_27.png', 'rgb_28.png', 'rgb_29.png', 'rgb_3.png', 'rgb_30.png', 'rgb_31.png', 'rgb_32.png', 'rgb_33.png', 'rgb_34.png', 'rgb_35.png', 'rgb_36.png', 'rgb_37.png', 'rgb_38.png', 'rgb_39.png', 'rgb_4.png', 'rgb_40.png', 'rgb_41.png', 'rgb_42.png', 'rgb_43.png', 'rgb_44.png', 'rgb_45.png', 'rgb_46.png', 'rgb_47.png', 'rgb_48.png', 'rgb_49.png', 'rgb_5.png', 'rgb_50.png', 'rgb_51.png', 'rgb_52.png', 'rgb_53.png', 'rgb_54.png', 'rgb_55.png', 'rgb_56.png', 'rgb_57.png', 'rgb_58.png', 'rgb_59.png', 'rgb_6.png', 'rgb_60.png', 'rgb_61.png', 'rgb_62.png', 'rgb_63.png', 'rgb_64.png', 'rgb_65.png', 'rgb_66.png', 'rgb_67.png', 'rgb_68.png', 'rgb_69.png', 'rgb_7.png', 'rgb_70.png', 'rgb_71.png', 'rgb_72.png', 'rgb_73.png', 'rgb_74.png', 'rgb_75.png', 'rgb_76.png', 'rgb_77.png', 'rgb_78.png', 'rgb_79.png', 'rgb_8.png', 'rgb_80.png', 'rgb_81.png', 'rgb_9.png']\n"
     ]
    }
   ],
   "source": [
    "class DataGen(keras.utils.Sequence):\n",
    "    def __init__(self, ids, path, batch_size=8, image_size=128):\n",
    "        self.ids = ids\n",
    "        self.path = path\n",
    "        self.batch_size = batch_size\n",
    "        self.image_size = image_size\n",
    "        self.on_epoch_end()\n",
    "        \n",
    "    def __load__(self, id_name):\n",
    "        ## Path\n",
    "        image_path = os.path.join(self.path, id_name, \"images\", id_name) + \".png\"\n",
    "        mask_path = os.path.join(self.path, id_name, \"masks/\")\n",
    "        all_masks = os.listdir(mask_path)\n",
    "        \n",
    "        ## Reading Image\n",
    "        image = cv2.imread(image_path, 1)\n",
    "        image = cv2.resize(image, (self.image_size, self.image_size))\n",
    "        \n",
    "        mask = np.zeros((self.image_size, self.image_size, 1))\n",
    "        \n",
    "        ## Reading Masks\n",
    "        for name in all_masks:\n",
    "            _mask_path = mask_path + name\n",
    "            _mask_image = cv2.imread(_mask_path, -1)\n",
    "            _mask_image = cv2.resize(_mask_image, (self.image_size, self.image_size)) #128x128\n",
    "            _mask_image = np.expand_dims(_mask_image, axis=-1)\n",
    "            mask = np.maximum(mask, _mask_image)\n",
    "            \n",
    "        ## Normalizaing \n",
    "        image = image/255.0\n",
    "        mask = mask/255.0\n",
    "        \n",
    "        return image, mask\n",
    "    \n",
    "    def __getitem__(self, index):\n",
    "        if(index+1)*self.batch_size > len(self.ids):\n",
    "            self.batch_size = len(self.ids) - index*self.batch_size\n",
    "        \n",
    "        files_batch = self.ids[index*self.batch_size : (index+1)*self.batch_size]\n",
    "        \n",
    "        image = []\n",
    "        mask  = []\n",
    "        \n",
    "        for id_name in files_batch:\n",
    "            _img, _mask = self.__load__(id_name)\n",
    "            image.append(_img)\n",
    "            mask.append(_mask)\n",
    "            \n",
    "        image = np.array(image)\n",
    "        mask  = np.array(mask)\n",
    "        \n",
    "        return image, mask\n",
    "    \n",
    "    def on_epoch_end(self):\n",
    "        pass\n",
    "    \n",
    "    def __len__(self):\n",
    "        return int(np.ceil(len(self.ids)/float(self.batch_size)))\n",
    "\n",
    "image_size = 128\n",
    "_path = \"C:/Users/Solayman/Downloads/WindTurbine_DataSet/images\" \n",
    "# train_path = \"dataset/stage1_train/\"\n",
    "epochs = 5\n",
    "batch_size = 8\n",
    "\n",
    "## Training Ids\n",
    "# train_ids = next(os.walk(train_path))[1]\n",
    "train_ids = os.listdir(_path)\n",
    "print(train_ids)\n",
    "\n",
    "## Validation Data Size\n",
    "val_data_size = 10\n",
    "\n",
    "valid_ids = train_ids[:val_data_size]\n",
    "train_ids = train_ids[val_data_size:]"
   ]
  },
  {
   "cell_type": "code",
   "execution_count": 48,
   "id": "76a4f52e",
   "metadata": {},
   "outputs": [
    {
     "ename": "FileNotFoundError",
     "evalue": "[WinError 3] The system cannot find the path specified: 'C:/Users/Solayman/Downloads/WindTurbine_DataSet\\\\rgb_19.png\\\\masks/'",
     "output_type": "error",
     "traceback": [
      "\u001b[1;31m---------------------------------------------------------------------------\u001b[0m",
      "\u001b[1;31mFileNotFoundError\u001b[0m                         Traceback (most recent call last)",
      "Input \u001b[1;32mIn [48]\u001b[0m, in \u001b[0;36m<cell line: 3>\u001b[1;34m()\u001b[0m\n\u001b[0;32m      1\u001b[0m train_path \u001b[38;5;241m=\u001b[39m \u001b[38;5;124m\"\u001b[39m\u001b[38;5;124mC:/Users/Solayman/Downloads/WindTurbine_DataSet\u001b[39m\u001b[38;5;124m\"\u001b[39m\n\u001b[0;32m      2\u001b[0m gen \u001b[38;5;241m=\u001b[39m DataGen(train_ids, train_path, batch_size\u001b[38;5;241m=\u001b[39mbatch_size, image_size\u001b[38;5;241m=\u001b[39mimage_size)\n\u001b[1;32m----> 3\u001b[0m x, y \u001b[38;5;241m=\u001b[39m \u001b[43mgen\u001b[49m\u001b[38;5;241;43m.\u001b[39;49m\u001b[38;5;21;43m__getitem__\u001b[39;49m\u001b[43m(\u001b[49m\u001b[38;5;241;43m0\u001b[39;49m\u001b[43m)\u001b[49m\n\u001b[0;32m      4\u001b[0m \u001b[38;5;28mprint\u001b[39m(x\u001b[38;5;241m.\u001b[39mshape, y\u001b[38;5;241m.\u001b[39mshape)\n",
      "Input \u001b[1;32mIn [47]\u001b[0m, in \u001b[0;36mDataGen.__getitem__\u001b[1;34m(self, index)\u001b[0m\n\u001b[0;32m     42\u001b[0m mask  \u001b[38;5;241m=\u001b[39m []\n\u001b[0;32m     44\u001b[0m \u001b[38;5;28;01mfor\u001b[39;00m id_name \u001b[38;5;129;01min\u001b[39;00m files_batch:\n\u001b[1;32m---> 45\u001b[0m     _img, _mask \u001b[38;5;241m=\u001b[39m \u001b[38;5;28;43mself\u001b[39;49m\u001b[38;5;241;43m.\u001b[39;49m\u001b[43m__load__\u001b[49m\u001b[43m(\u001b[49m\u001b[43mid_name\u001b[49m\u001b[43m)\u001b[49m\n\u001b[0;32m     46\u001b[0m     image\u001b[38;5;241m.\u001b[39mappend(_img)\n\u001b[0;32m     47\u001b[0m     mask\u001b[38;5;241m.\u001b[39mappend(_mask)\n",
      "Input \u001b[1;32mIn [47]\u001b[0m, in \u001b[0;36mDataGen.__load__\u001b[1;34m(self, id_name)\u001b[0m\n\u001b[0;32m     11\u001b[0m image_path \u001b[38;5;241m=\u001b[39m os\u001b[38;5;241m.\u001b[39mpath\u001b[38;5;241m.\u001b[39mjoin(\u001b[38;5;28mself\u001b[39m\u001b[38;5;241m.\u001b[39mpath, id_name, \u001b[38;5;124m\"\u001b[39m\u001b[38;5;124mimages\u001b[39m\u001b[38;5;124m\"\u001b[39m, id_name) \u001b[38;5;241m+\u001b[39m \u001b[38;5;124m\"\u001b[39m\u001b[38;5;124m.png\u001b[39m\u001b[38;5;124m\"\u001b[39m\n\u001b[0;32m     12\u001b[0m mask_path \u001b[38;5;241m=\u001b[39m os\u001b[38;5;241m.\u001b[39mpath\u001b[38;5;241m.\u001b[39mjoin(\u001b[38;5;28mself\u001b[39m\u001b[38;5;241m.\u001b[39mpath, id_name, \u001b[38;5;124m\"\u001b[39m\u001b[38;5;124mmasks/\u001b[39m\u001b[38;5;124m\"\u001b[39m)\n\u001b[1;32m---> 13\u001b[0m all_masks \u001b[38;5;241m=\u001b[39m \u001b[43mos\u001b[49m\u001b[38;5;241;43m.\u001b[39;49m\u001b[43mlistdir\u001b[49m\u001b[43m(\u001b[49m\u001b[43mmask_path\u001b[49m\u001b[43m)\u001b[49m\n\u001b[0;32m     15\u001b[0m \u001b[38;5;66;03m## Reading Image\u001b[39;00m\n\u001b[0;32m     16\u001b[0m image \u001b[38;5;241m=\u001b[39m cv2\u001b[38;5;241m.\u001b[39mimread(image_path, \u001b[38;5;241m1\u001b[39m)\n",
      "\u001b[1;31mFileNotFoundError\u001b[0m: [WinError 3] The system cannot find the path specified: 'C:/Users/Solayman/Downloads/WindTurbine_DataSet\\\\rgb_19.png\\\\masks/'"
     ]
    }
   ],
   "source": [
    "train_path = \"C:/Users/Solayman/Downloads/WindTurbine_DataSet\"\n",
    "gen = DataGen(train_ids, train_path, batch_size=batch_size, image_size=image_size)\n",
    "x, y = gen.__getitem__(0)\n",
    "print(x.shape, y.shape)"
   ]
  },
  {
   "cell_type": "code",
   "execution_count": 40,
   "id": "d3b004da",
   "metadata": {},
   "outputs": [
    {
     "ename": "ValueError",
     "evalue": "empty range for randrange() (0, 0, 0)",
     "output_type": "error",
     "traceback": [
      "\u001b[1;31m---------------------------------------------------------------------------\u001b[0m",
      "\u001b[1;31mValueError\u001b[0m                                Traceback (most recent call last)",
      "Input \u001b[1;32mIn [40]\u001b[0m, in \u001b[0;36m<cell line: 1>\u001b[1;34m()\u001b[0m\n\u001b[1;32m----> 1\u001b[0m r \u001b[38;5;241m=\u001b[39m \u001b[43mrandom\u001b[49m\u001b[38;5;241;43m.\u001b[39;49m\u001b[43mrandint\u001b[49m\u001b[43m(\u001b[49m\u001b[38;5;241;43m0\u001b[39;49m\u001b[43m,\u001b[49m\u001b[43m \u001b[49m\u001b[38;5;28;43mlen\u001b[39;49m\u001b[43m(\u001b[49m\u001b[43mx\u001b[49m\u001b[43m)\u001b[49m\u001b[38;5;241;43m-\u001b[39;49m\u001b[38;5;241;43m1\u001b[39;49m\u001b[43m)\u001b[49m\n\u001b[0;32m      3\u001b[0m fig \u001b[38;5;241m=\u001b[39m plt\u001b[38;5;241m.\u001b[39mfigure()\n\u001b[0;32m      4\u001b[0m fig\u001b[38;5;241m.\u001b[39msubplots_adjust(hspace\u001b[38;5;241m=\u001b[39m\u001b[38;5;241m0.4\u001b[39m, wspace\u001b[38;5;241m=\u001b[39m\u001b[38;5;241m0.4\u001b[39m)\n",
      "File \u001b[1;32m~\\anaconda3\\lib\\random.py:338\u001b[0m, in \u001b[0;36mRandom.randint\u001b[1;34m(self, a, b)\u001b[0m\n\u001b[0;32m    334\u001b[0m \u001b[38;5;28;01mdef\u001b[39;00m \u001b[38;5;21mrandint\u001b[39m(\u001b[38;5;28mself\u001b[39m, a, b):\n\u001b[0;32m    335\u001b[0m     \u001b[38;5;124;03m\"\"\"Return random integer in range [a, b], including both end points.\u001b[39;00m\n\u001b[0;32m    336\u001b[0m \u001b[38;5;124;03m    \"\"\"\u001b[39;00m\n\u001b[1;32m--> 338\u001b[0m     \u001b[38;5;28;01mreturn\u001b[39;00m \u001b[38;5;28;43mself\u001b[39;49m\u001b[38;5;241;43m.\u001b[39;49m\u001b[43mrandrange\u001b[49m\u001b[43m(\u001b[49m\u001b[43ma\u001b[49m\u001b[43m,\u001b[49m\u001b[43m \u001b[49m\u001b[43mb\u001b[49m\u001b[38;5;241;43m+\u001b[39;49m\u001b[38;5;241;43m1\u001b[39;49m\u001b[43m)\u001b[49m\n",
      "File \u001b[1;32m~\\anaconda3\\lib\\random.py:316\u001b[0m, in \u001b[0;36mRandom.randrange\u001b[1;34m(self, start, stop, step)\u001b[0m\n\u001b[0;32m    314\u001b[0m     \u001b[38;5;28;01mreturn\u001b[39;00m istart \u001b[38;5;241m+\u001b[39m \u001b[38;5;28mself\u001b[39m\u001b[38;5;241m.\u001b[39m_randbelow(width)\n\u001b[0;32m    315\u001b[0m \u001b[38;5;28;01mif\u001b[39;00m step \u001b[38;5;241m==\u001b[39m \u001b[38;5;241m1\u001b[39m:\n\u001b[1;32m--> 316\u001b[0m     \u001b[38;5;28;01mraise\u001b[39;00m \u001b[38;5;167;01mValueError\u001b[39;00m(\u001b[38;5;124m\"\u001b[39m\u001b[38;5;124mempty range for randrange() (\u001b[39m\u001b[38;5;132;01m%d\u001b[39;00m\u001b[38;5;124m, \u001b[39m\u001b[38;5;132;01m%d\u001b[39;00m\u001b[38;5;124m, \u001b[39m\u001b[38;5;132;01m%d\u001b[39;00m\u001b[38;5;124m)\u001b[39m\u001b[38;5;124m\"\u001b[39m \u001b[38;5;241m%\u001b[39m (istart, istop, width))\n\u001b[0;32m    318\u001b[0m \u001b[38;5;66;03m# Non-unit step argument supplied.\u001b[39;00m\n\u001b[0;32m    319\u001b[0m istep \u001b[38;5;241m=\u001b[39m \u001b[38;5;28mint\u001b[39m(step)\n",
      "\u001b[1;31mValueError\u001b[0m: empty range for randrange() (0, 0, 0)"
     ]
    }
   ],
   "source": [
    "r = random.randint(0, len(x)-1)\n",
    "\n",
    "fig = plt.figure()\n",
    "fig.subplots_adjust(hspace=0.4, wspace=0.4)\n",
    "ax = fig.add_subplot(1, 2, 1)\n",
    "ax.imshow(x[r])\n",
    "ax = fig.add_subplot(1, 2, 2)\n",
    "ax.imshow(np.reshape(y[r], (image_size, image_size)), cmap=\"gray\")"
   ]
  },
  {
   "cell_type": "code",
   "execution_count": null,
   "id": "b4dd87e5",
   "metadata": {},
   "outputs": [],
   "source": []
  }
 ],
 "metadata": {
  "kernelspec": {
   "display_name": "Python 3 (ipykernel)",
   "language": "python",
   "name": "python3"
  },
  "language_info": {
   "codemirror_mode": {
    "name": "ipython",
    "version": 3
   },
   "file_extension": ".py",
   "mimetype": "text/x-python",
   "name": "python",
   "nbconvert_exporter": "python",
   "pygments_lexer": "ipython3",
   "version": "3.9.12"
  }
 },
 "nbformat": 4,
 "nbformat_minor": 5
}
