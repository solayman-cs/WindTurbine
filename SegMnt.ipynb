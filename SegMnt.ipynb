{
  "cells": [
    {
      "cell_type": "code",
      "source": [
        "from google.colab import drive\n",
        "drive.mount('/content/drive')"
      ],
      "metadata": {
        "colab": {
          "base_uri": "https://localhost:8080/"
        },
        "id": "oSSnqX0taNEo",
        "outputId": "5d05c778-3d5a-4759-f391-1e34bfae3695"
      },
      "execution_count": 1,
      "outputs": [
        {
          "output_type": "stream",
          "name": "stdout",
          "text": [
            "Drive already mounted at /content/drive; to attempt to forcibly remount, call drive.mount(\"/content/drive\", force_remount=True).\n"
          ]
        }
      ]
    },
    {
      "cell_type": "code",
      "source": [
        "%cd /content/drive/My Drive/NoteBooks/Unet-Dr_Rahman"
      ],
      "metadata": {
        "colab": {
          "base_uri": "https://localhost:8080/"
        },
        "id": "pexx60VUaRSM",
        "outputId": "0ef90405-5ffe-40ef-8625-294d5815ddde"
      },
      "execution_count": 2,
      "outputs": [
        {
          "output_type": "stream",
          "name": "stdout",
          "text": [
            "/content/drive/My Drive/NoteBooks/Unet-Dr_Rahman\n"
          ]
        }
      ]
    },
    {
      "cell_type": "code",
      "execution_count": 10,
      "metadata": {
        "id": "vDHzkK_taBmY"
      },
      "outputs": [],
      "source": [
        "#import all the libraries\n",
        "import numpy as np\n",
        "from keras.preprocessing.image import ImageDataGenerator\n",
        "import os\n",
        "import cv2\n",
        "import glob\n",
        "import skimage.io as io\n",
        "from PIL import Image\n",
        "from skimage.viewer import ImageViewer\n",
        "import matplotlib.pyplot as plt\n",
        "from model import *"
      ]
    },
    {
      "cell_type": "code",
      "execution_count": null,
      "metadata": {
        "id": "e-JrqkUsaBmc"
      },
      "outputs": [],
      "source": [
        "def trainGenerator(image_path,mask_path,flag_multi_class = False,num_class = 2,image_prefix = \"image\",mask_prefix = \"mask\",image_as_gray = True,mask_as_gray = True):\n",
        "    image_name_arr = glob.glob(os.path.join(image_path,\"*.png\"))\n",
        "    mask_name_arr = glob.glob(os.path.join(mask_path, \"*.png\"))\n",
        "    image_arr = []\n",
        "    mask_arr = []\n",
        "    for index,item in enumerate(image_name_arr):\n",
        "        img = io.imread(item,as_gray = image_as_gray)\n",
        "        img = np.reshape(img,img.shape + (1,)) if image_as_gray else img\n",
        "        img = img / 255\n",
        "        image_arr.append(img)\n",
        "\n",
        "    for index, item in enumerate(mask_name_arr):\n",
        "        mask = io.imread(item, as_gray = image_as_gray)\n",
        "        mask = np.reshape(mask,mask.shape + (1,)) if mask_as_gray else mask\n",
        "        mask = mask/255\n",
        "        mask[mask>0.5] = 1\n",
        "        mask[mask<=0.5] = 0\n",
        "        mask_arr.append(mask)\n",
        "\n",
        "    image_arr = np.array(image_arr)\n",
        "    mask_arr = np.array(mask_arr)\n",
        "    return image_arr,mask_arr"
      ]
    },
    {
      "cell_type": "code",
      "source": [],
      "metadata": {
        "id": "z8rKB7hWzffF"
      },
      "execution_count": null,
      "outputs": []
    },
    {
      "cell_type": "code",
      "execution_count": 25,
      "metadata": {
        "id": "09S1PtvkaBmd"
      },
      "outputs": [],
      "source": [
        "def testGenerator(test_path, image_num):\n",
        "    for i in range(image_num):\n",
        "        x = 70+i\n",
        "        #idx = str(i+1).zfill(5) + \".png\"\n",
        "        idx = 'rgb_' +str(x)+\".png\"\n",
        "        print(idx)\n",
        "        img = io.imread(os.path.join(test_path, idx), as_gray=True)\n",
        "        img = img / 255\n",
        "        img = np.reshape(img, img.shape + (1,))\n",
        "        img = np.reshape(img,(1,)+img.shape)\n",
        "        yield img"
      ]
    },
    {
      "cell_type": "code",
      "execution_count": 29,
      "metadata": {
        "id": "mu-HJB81aBmd"
      },
      "outputs": [],
      "source": [
        "def getItem(img_path, item):\n",
        "    idx = str(item+1).zfill(5) + \".png\"\n",
        "    img = io.imread(os.path.join(img_path, idx), as_gray=True)\n",
        "    img = img/255.0\n",
        "    img = np.reshape(img, img.shape + (1,))\n",
        "    img = np.reshape(img,(1,)+img.shape)\n",
        "    return img"
      ]
    },
    {
      "cell_type": "code",
      "execution_count": 11,
      "metadata": {
        "id": "87TamVe1aBmd"
      },
      "outputs": [],
      "source": [
        "def saveResult(save_path, files):\n",
        "    for i, item in enumerate(files):\n",
        "        img = item[:,:,0]\n",
        "        idx = str(i+1).zfill(5) + \".png\"\n",
        "        #io.imsave(os.path.join(save_path, idx), img)\n",
        "        cv2.imwrite(os.path.join(save_path, idx), img)"
      ]
    },
    {
      "cell_type": "code",
      "execution_count": null,
      "metadata": {
        "id": "WfDLkh1GaBme"
      },
      "outputs": [],
      "source": [
        "def viewImage(array1, array2, i):\n",
        "    img = np.reshape(array1[i], (512, 512))\n",
        "    mask = np.reshape(array2[i], (512, 512))\n",
        "    f, axarr = plt.subplots(1,2)\n",
        "    axarr[0].imshow(img, cmap=plt.cm.gray)\n",
        "    axarr[1].imshow(mask, cmap=plt.cm.gray)\n",
        "    plt.show()"
      ]
    },
    {
      "cell_type": "code",
      "execution_count": null,
      "metadata": {
        "colab": {
          "base_uri": "https://localhost:8080/",
          "height": 239
        },
        "id": "MtVwypYMaBme",
        "outputId": "5f246dc1-5496-40c4-9f58-c4dc7a7349d5"
      },
      "outputs": [
        {
          "output_type": "stream",
          "name": "stdout",
          "text": [
            "(69, 512, 512, 1)\n",
            "(69, 512, 512, 1)\n"
          ]
        },
        {
          "output_type": "display_data",
          "data": {
            "text/plain": [
              "<Figure size 432x288 with 2 Axes>"
            ],
            "image/png": "[encoded data removed]"
          },
          "metadata": {
            "needs_background": "light"
          }
        }
      ],
      "source": [
        "# Load the train data and their corresponding labels\n",
        "# Visualize a sample image\n",
        "imgs_train,imgs_mask_train= trainGenerator(\"train/images/\",\"train/masks/\")\n",
        "print(imgs_train.shape)   \n",
        "print(imgs_mask_train.shape)\n",
        "index = np.random.randint(1, 81)\n",
        "viewImage(imgs_train, imgs_mask_train, index)"
      ]
    },
    {
      "cell_type": "code",
      "execution_count": 6,
      "metadata": {
        "colab": {
          "base_uri": "https://localhost:8080/"
        },
        "id": "dOM7fOulaBmf",
        "outputId": "a1a93d03-1cf6-435d-e5b8-296fadfdd957"
      },
      "outputs": [
        {
          "output_type": "stream",
          "name": "stdout",
          "text": [
            "Model: \"model\"\n",
            "__________________________________________________________________________________________________\n",
            " Layer (type)                   Output Shape         Param #     Connected to                     \n",
            "==================================================================================================\n",
            " input_1 (InputLayer)           [(None, 512, 512, 1  0           []                               \n",
            "                                )]                                                                \n",
            "                                                                                                  \n",
            " conv2d (Conv2D)                (None, 512, 512, 64  640         ['input_1[0][0]']                \n",
            "                                )                                                                 \n",
            "                                                                                                  \n",
            " conv2d_1 (Conv2D)              (None, 512, 512, 64  36928       ['conv2d[0][0]']                 \n",
            "                                )                                                                 \n",
            "                                                                                                  \n",
            " max_pooling2d (MaxPooling2D)   (None, 256, 256, 64  0           ['conv2d_1[0][0]']               \n",
            "                                )                                                                 \n",
            "                                                                                                  \n",
            " conv2d_2 (Conv2D)              (None, 256, 256, 12  73856       ['max_pooling2d[0][0]']          \n",
            "                                8)                                                                \n",
            "                                                                                                  \n",
            " conv2d_3 (Conv2D)              (None, 256, 256, 12  147584      ['conv2d_2[0][0]']               \n",
            "                                8)                                                                \n",
            "                                                                                                  \n",
            " max_pooling2d_1 (MaxPooling2D)  (None, 128, 128, 12  0          ['conv2d_3[0][0]']               \n",
            "                                8)                                                                \n",
            "                                                                                                  \n",
            " conv2d_4 (Conv2D)              (None, 128, 128, 25  295168      ['max_pooling2d_1[0][0]']        \n",
            "                                6)                                                                \n",
            "                                                                                                  \n",
            " conv2d_5 (Conv2D)              (None, 128, 128, 25  590080      ['conv2d_4[0][0]']               \n",
            "                                6)                                                                \n",
            "                                                                                                  \n",
            " max_pooling2d_2 (MaxPooling2D)  (None, 64, 64, 256)  0          ['conv2d_5[0][0]']               \n",
            "                                                                                                  \n",
            " conv2d_6 (Conv2D)              (None, 64, 64, 512)  1180160     ['max_pooling2d_2[0][0]']        \n",
            "                                                                                                  \n",
            " conv2d_7 (Conv2D)              (None, 64, 64, 512)  2359808     ['conv2d_6[0][0]']               \n",
            "                                                                                                  \n",
            " dropout (Dropout)              (None, 64, 64, 512)  0           ['conv2d_7[0][0]']               \n",
            "                                                                                                  \n",
            " max_pooling2d_3 (MaxPooling2D)  (None, 32, 32, 512)  0          ['dropout[0][0]']                \n",
            "                                                                                                  \n",
            " conv2d_8 (Conv2D)              (None, 32, 32, 1024  4719616     ['max_pooling2d_3[0][0]']        \n",
            "                                )                                                                 \n",
            "                                                                                                  \n",
            " conv2d_9 (Conv2D)              (None, 32, 32, 1024  9438208     ['conv2d_8[0][0]']               \n",
            "                                )                                                                 \n",
            "                                                                                                  \n",
            " dropout_1 (Dropout)            (None, 32, 32, 1024  0           ['conv2d_9[0][0]']               \n",
            "                                )                                                                 \n",
            "                                                                                                  \n",
            " up_sampling2d (UpSampling2D)   (None, 64, 64, 1024  0           ['dropout_1[0][0]']              \n",
            "                                )                                                                 \n",
            "                                                                                                  \n",
            " conv2d_10 (Conv2D)             (None, 64, 64, 512)  2097664     ['up_sampling2d[0][0]']          \n",
            "                                                                                                  \n",
            " concatenate (Concatenate)      (None, 64, 64, 1024  0           ['dropout[0][0]',                \n",
            "                                )                                 'conv2d_10[0][0]']              \n",
            "                                                                                                  \n",
            " conv2d_11 (Conv2D)             (None, 64, 64, 512)  4719104     ['concatenate[0][0]']            \n",
            "                                                                                                  \n",
            " conv2d_12 (Conv2D)             (None, 64, 64, 512)  2359808     ['conv2d_11[0][0]']              \n",
            "                                                                                                  \n",
            " up_sampling2d_1 (UpSampling2D)  (None, 128, 128, 51  0          ['conv2d_12[0][0]']              \n",
            "                                2)                                                                \n",
            "                                                                                                  \n",
            " conv2d_13 (Conv2D)             (None, 128, 128, 25  524544      ['up_sampling2d_1[0][0]']        \n",
            "                                6)                                                                \n",
            "                                                                                                  \n",
            " concatenate_1 (Concatenate)    (None, 128, 128, 51  0           ['conv2d_5[0][0]',               \n",
            "                                2)                                'conv2d_13[0][0]']              \n",
            "                                                                                                  \n",
            " conv2d_14 (Conv2D)             (None, 128, 128, 25  1179904     ['concatenate_1[0][0]']          \n",
            "                                6)                                                                \n",
            "                                                                                                  \n",
            " conv2d_15 (Conv2D)             (None, 128, 128, 25  590080      ['conv2d_14[0][0]']              \n",
            "                                6)                                                                \n",
            "                                                                                                  \n",
            " up_sampling2d_2 (UpSampling2D)  (None, 256, 256, 25  0          ['conv2d_15[0][0]']              \n",
            "                                6)                                                                \n",
            "                                                                                                  \n",
            " conv2d_16 (Conv2D)             (None, 256, 256, 12  131200      ['up_sampling2d_2[0][0]']        \n",
            "                                8)                                                                \n",
            "                                                                                                  \n",
            " concatenate_2 (Concatenate)    (None, 256, 256, 25  0           ['conv2d_3[0][0]',               \n",
            "                                6)                                'conv2d_16[0][0]']              \n",
            "                                                                                                  \n",
            " conv2d_17 (Conv2D)             (None, 256, 256, 12  295040      ['concatenate_2[0][0]']          \n",
            "                                8)                                                                \n",
            "                                                                                                  \n",
            " conv2d_18 (Conv2D)             (None, 256, 256, 12  147584      ['conv2d_17[0][0]']              \n",
            "                                8)                                                                \n",
            "                                                                                                  \n",
            " up_sampling2d_3 (UpSampling2D)  (None, 512, 512, 12  0          ['conv2d_18[0][0]']              \n",
            "                                8)                                                                \n",
            "                                                                                                  \n",
            " conv2d_19 (Conv2D)             (None, 512, 512, 64  32832       ['up_sampling2d_3[0][0]']        \n",
            "                                )                                                                 \n",
            "                                                                                                  \n",
            " concatenate_3 (Concatenate)    (None, 512, 512, 12  0           ['conv2d_1[0][0]',               \n",
            "                                8)                                'conv2d_19[0][0]']              \n",
            "                                                                                                  \n",
            " conv2d_20 (Conv2D)             (None, 512, 512, 64  73792       ['concatenate_3[0][0]']          \n",
            "                                )                                                                 \n",
            "                                                                                                  \n",
            " conv2d_21 (Conv2D)             (None, 512, 512, 64  36928       ['conv2d_20[0][0]']              \n",
            "                                )                                                                 \n",
            "                                                                                                  \n",
            " conv2d_22 (Conv2D)             (None, 512, 512, 2)  1154        ['conv2d_21[0][0]']              \n",
            "                                                                                                  \n",
            " conv2d_23 (Conv2D)             (None, 512, 512, 1)  3           ['conv2d_22[0][0]']              \n",
            "                                                                                                  \n",
            "==================================================================================================\n"
          ]
        },
        {
          "output_type": "stream",
          "name": "stderr",
          "text": [
            "/usr/local/lib/python3.8/dist-packages/keras/optimizers/optimizer_v2/adam.py:110: UserWarning: The `lr` argument is deprecated, use `learning_rate` instead.\n",
            "  super(Adam, self).__init__(name, **kwargs)\n"
          ]
        },
        {
          "output_type": "stream",
          "name": "stdout",
          "text": [
            "Total params: 31,031,685\n",
            "Trainable params: 31,031,685\n",
            "Non-trainable params: 0\n",
            "__________________________________________________________________________________________________\n"
          ]
        }
      ],
      "source": [
        "# laod model and show the model summary\n",
        "model = unet()\n",
        "model_checkpoint = ModelCheckpoint('windTurbine_segmentation.hdf5', monitor='loss',verbose=1, save_best_only=True)\n",
        "model.summary()"
      ]
    },
    {
      "cell_type": "code",
      "execution_count": null,
      "metadata": {
        "colab": {
          "base_uri": "https://localhost:8080/"
        },
        "id": "lei_NweBaBmf",
        "outputId": "4ea07212-66aa-402d-e53c-94abc4594ca1"
      },
      "outputs": [
        {
          "output_type": "stream",
          "name": "stdout",
          "text": [
            "Epoch 1/50\n",
            "11/11 [==============================] - ETA: 0s - loss: 0.4040 - accuracy: 0.9094\n",
            "Epoch 1: loss improved from inf to 0.40401, saving model to windTurbine_segmentation.hdf5\n",
            "11/11 [==============================] - 54s 2s/step - loss: 0.4040 - accuracy: 0.9094 - val_loss: 0.0292 - val_accuracy: 0.9995\n",
            "Epoch 2/50\n",
            "11/11 [==============================] - ETA: 0s - loss: 0.0649 - accuracy: 0.9995\n",
            "Epoch 2: loss improved from 0.40401 to 0.06487, saving model to windTurbine_segmentation.hdf5\n",
            "11/11 [==============================] - 18s 2s/step - loss: 0.0649 - accuracy: 0.9995 - val_loss: 0.0125 - val_accuracy: 0.9995\n",
            "Epoch 3/50\n",
            "11/11 [==============================] - ETA: 0s - loss: 0.0137 - accuracy: 0.9995\n",
            "Epoch 3: loss improved from 0.06487 to 0.01367, saving model to windTurbine_segmentation.hdf5\n",
            "11/11 [==============================] - 19s 2s/step - loss: 0.0137 - accuracy: 0.9995 - val_loss: 0.0127 - val_accuracy: 0.9995\n",
            "Epoch 4/50\n",
            "11/11 [==============================] - ETA: 0s - loss: 0.0096 - accuracy: 0.9995\n",
            "Epoch 4: loss improved from 0.01367 to 0.00961, saving model to windTurbine_segmentation.hdf5\n",
            "11/11 [==============================] - 19s 2s/step - loss: 0.0096 - accuracy: 0.9995 - val_loss: 0.0175 - val_accuracy: 0.9995\n",
            "Epoch 5/50\n",
            "11/11 [==============================] - ETA: 0s - loss: 0.0061 - accuracy: 0.9995\n",
            "Epoch 5: loss improved from 0.00961 to 0.00611, saving model to windTurbine_segmentation.hdf5\n",
            "11/11 [==============================] - 19s 2s/step - loss: 0.0061 - accuracy: 0.9995 - val_loss: 0.0189 - val_accuracy: 0.9995\n",
            "Epoch 6/50\n",
            "11/11 [==============================] - ETA: 0s - loss: 0.0044 - accuracy: 0.9995\n",
            "Epoch 6: loss improved from 0.00611 to 0.00444, saving model to windTurbine_segmentation.hdf5\n",
            "11/11 [==============================] - 18s 2s/step - loss: 0.0044 - accuracy: 0.9995 - val_loss: 0.0162 - val_accuracy: 0.9995\n",
            "Epoch 7/50\n",
            "11/11 [==============================] - ETA: 0s - loss: 0.0039 - accuracy: 0.9995\n",
            "Epoch 7: loss improved from 0.00444 to 0.00387, saving model to windTurbine_segmentation.hdf5\n",
            "11/11 [==============================] - 19s 2s/step - loss: 0.0039 - accuracy: 0.9995 - val_loss: 0.0171 - val_accuracy: 0.9995\n",
            "Epoch 8/50\n",
            "11/11 [==============================] - ETA: 0s - loss: 0.0038 - accuracy: 0.9995\n",
            "Epoch 8: loss improved from 0.00387 to 0.00376, saving model to windTurbine_segmentation.hdf5\n",
            "11/11 [==============================] - 19s 2s/step - loss: 0.0038 - accuracy: 0.9995 - val_loss: 0.0143 - val_accuracy: 0.9995\n",
            "Epoch 9/50\n",
            "11/11 [==============================] - ETA: 0s - loss: 0.0037 - accuracy: 0.9995\n",
            "Epoch 9: loss improved from 0.00376 to 0.00374, saving model to windTurbine_segmentation.hdf5\n",
            "11/11 [==============================] - 19s 2s/step - loss: 0.0037 - accuracy: 0.9995 - val_loss: 0.0155 - val_accuracy: 0.9995\n",
            "Epoch 10/50\n",
            "11/11 [==============================] - ETA: 0s - loss: 0.0037 - accuracy: 0.9995\n",
            "Epoch 10: loss improved from 0.00374 to 0.00372, saving model to windTurbine_segmentation.hdf5\n",
            "11/11 [==============================] - 19s 2s/step - loss: 0.0037 - accuracy: 0.9995 - val_loss: 0.0146 - val_accuracy: 0.9995\n",
            "Epoch 11/50\n",
            "11/11 [==============================] - ETA: 0s - loss: 0.0037 - accuracy: 0.9995\n",
            "Epoch 11: loss did not improve from 0.00372\n",
            "11/11 [==============================] - 17s 2s/step - loss: 0.0037 - accuracy: 0.9995 - val_loss: 0.0145 - val_accuracy: 0.9995\n",
            "Epoch 12/50\n",
            "11/11 [==============================] - ETA: 0s - loss: 0.0037 - accuracy: 0.9995\n",
            "Epoch 12: loss improved from 0.00372 to 0.00370, saving model to windTurbine_segmentation.hdf5\n",
            "11/11 [==============================] - 21s 2s/step - loss: 0.0037 - accuracy: 0.9995 - val_loss: 0.0145 - val_accuracy: 0.9995\n",
            "Epoch 13/50\n",
            "11/11 [==============================] - ETA: 0s - loss: 0.0037 - accuracy: 0.9995\n",
            "Epoch 13: loss did not improve from 0.00370\n",
            "11/11 [==============================] - 17s 2s/step - loss: 0.0037 - accuracy: 0.9995 - val_loss: 0.0125 - val_accuracy: 0.9995\n",
            "Epoch 14/50\n",
            "11/11 [==============================] - ETA: 0s - loss: 0.0037 - accuracy: 0.9995\n",
            "Epoch 14: loss improved from 0.00370 to 0.00368, saving model to windTurbine_segmentation.hdf5\n",
            "11/11 [==============================] - 21s 2s/step - loss: 0.0037 - accuracy: 0.9995 - val_loss: 0.0114 - val_accuracy: 0.9995\n",
            "Epoch 15/50\n",
            "11/11 [==============================] - ETA: 0s - loss: 0.0037 - accuracy: 0.9995\n",
            "Epoch 15: loss improved from 0.00368 to 0.00366, saving model to windTurbine_segmentation.hdf5\n",
            "11/11 [==============================] - 19s 2s/step - loss: 0.0037 - accuracy: 0.9995 - val_loss: 0.0118 - val_accuracy: 0.9995\n",
            "Epoch 16/50\n",
            "11/11 [==============================] - ETA: 0s - loss: 0.0037 - accuracy: 0.9995\n",
            "Epoch 16: loss improved from 0.00366 to 0.00365, saving model to windTurbine_segmentation.hdf5\n",
            "11/11 [==============================] - 19s 2s/step - loss: 0.0037 - accuracy: 0.9995 - val_loss: 0.0111 - val_accuracy: 0.9995\n",
            "Epoch 17/50\n",
            "11/11 [==============================] - ETA: 0s - loss: 0.0036 - accuracy: 0.9995\n",
            "Epoch 17: loss improved from 0.00365 to 0.00362, saving model to windTurbine_segmentation.hdf5\n",
            "11/11 [==============================] - 19s 2s/step - loss: 0.0036 - accuracy: 0.9995 - val_loss: 0.0135 - val_accuracy: 0.9995\n",
            "Epoch 18/50\n",
            "11/11 [==============================] - ETA: 0s - loss: 0.0036 - accuracy: 0.9995\n",
            "Epoch 18: loss did not improve from 0.00362\n",
            "11/11 [==============================] - 17s 2s/step - loss: 0.0036 - accuracy: 0.9995 - val_loss: 0.0128 - val_accuracy: 0.9995\n",
            "Epoch 19/50\n",
            "11/11 [==============================] - ETA: 0s - loss: 0.0036 - accuracy: 0.9995\n",
            "Epoch 19: loss improved from 0.00362 to 0.00361, saving model to windTurbine_segmentation.hdf5\n",
            "11/11 [==============================] - 22s 2s/step - loss: 0.0036 - accuracy: 0.9995 - val_loss: 0.0112 - val_accuracy: 0.9995\n",
            "Epoch 20/50\n",
            "11/11 [==============================] - ETA: 0s - loss: 0.0036 - accuracy: 0.9995\n",
            "Epoch 20: loss did not improve from 0.00361\n",
            "11/11 [==============================] - 17s 2s/step - loss: 0.0036 - accuracy: 0.9995 - val_loss: 0.0094 - val_accuracy: 0.9995\n",
            "Epoch 21/50\n",
            "11/11 [==============================] - ETA: 0s - loss: 0.0036 - accuracy: 0.9995\n",
            "Epoch 21: loss did not improve from 0.00361\n",
            "11/11 [==============================] - 18s 2s/step - loss: 0.0036 - accuracy: 0.9995 - val_loss: 0.0140 - val_accuracy: 0.9995\n",
            "Epoch 22/50\n",
            "11/11 [==============================] - ETA: 0s - loss: 0.0036 - accuracy: 0.9995\n",
            "Epoch 22: loss improved from 0.00361 to 0.00360, saving model to windTurbine_segmentation.hdf5\n",
            "11/11 [==============================] - 22s 2s/step - loss: 0.0036 - accuracy: 0.9995 - val_loss: 0.0123 - val_accuracy: 0.9995\n",
            "Epoch 23/50\n",
            "11/11 [==============================] - ETA: 0s - loss: 0.0037 - accuracy: 0.9995\n",
            "Epoch 23: loss did not improve from 0.00360\n",
            "11/11 [==============================] - 17s 2s/step - loss: 0.0037 - accuracy: 0.9995 - val_loss: 0.0122 - val_accuracy: 0.9995\n",
            "Epoch 24/50\n",
            "11/11 [==============================] - ETA: 0s - loss: 0.0036 - accuracy: 0.9995\n",
            "Epoch 24: loss improved from 0.00360 to 0.00359, saving model to windTurbine_segmentation.hdf5\n",
            "11/11 [==============================] - 22s 2s/step - loss: 0.0036 - accuracy: 0.9995 - val_loss: 0.0112 - val_accuracy: 0.9995\n",
            "Epoch 25/50\n",
            "11/11 [==============================] - ETA: 0s - loss: 0.0036 - accuracy: 0.9995\n",
            "Epoch 25: loss improved from 0.00359 to 0.00358, saving model to windTurbine_segmentation.hdf5\n",
            "11/11 [==============================] - 19s 2s/step - loss: 0.0036 - accuracy: 0.9995 - val_loss: 0.0094 - val_accuracy: 0.9995\n",
            "Epoch 26/50\n",
            "11/11 [==============================] - ETA: 0s - loss: 0.0036 - accuracy: 0.9995\n",
            "Epoch 26: loss improved from 0.00358 to 0.00358, saving model to windTurbine_segmentation.hdf5\n",
            "11/11 [==============================] - 19s 2s/step - loss: 0.0036 - accuracy: 0.9995 - val_loss: 0.0118 - val_accuracy: 0.9995\n",
            "Epoch 27/50\n",
            "11/11 [==============================] - ETA: 0s - loss: 0.0036 - accuracy: 0.9995\n",
            "Epoch 27: loss improved from 0.00358 to 0.00355, saving model to windTurbine_segmentation.hdf5\n",
            "11/11 [==============================] - 19s 2s/step - loss: 0.0036 - accuracy: 0.9995 - val_loss: 0.0132 - val_accuracy: 0.9995\n",
            "Epoch 28/50\n",
            "11/11 [==============================] - ETA: 0s - loss: 0.0035 - accuracy: 0.9995\n",
            "Epoch 28: loss improved from 0.00355 to 0.00353, saving model to windTurbine_segmentation.hdf5\n",
            "11/11 [==============================] - 19s 2s/step - loss: 0.0035 - accuracy: 0.9995 - val_loss: 0.0098 - val_accuracy: 0.9995\n",
            "Epoch 29/50\n",
            "11/11 [==============================] - ETA: 0s - loss: 0.0035 - accuracy: 0.9995\n",
            "Epoch 29: loss did not improve from 0.00353\n",
            "11/11 [==============================] - 19s 2s/step - loss: 0.0035 - accuracy: 0.9995 - val_loss: 0.0115 - val_accuracy: 0.9995\n",
            "Epoch 30/50\n",
            "11/11 [==============================] - ETA: 0s - loss: 0.0035 - accuracy: 0.9995\n",
            "Epoch 30: loss improved from 0.00353 to 0.00352, saving model to windTurbine_segmentation.hdf5\n",
            "11/11 [==============================] - 22s 2s/step - loss: 0.0035 - accuracy: 0.9995 - val_loss: 0.0135 - val_accuracy: 0.9995\n",
            "Epoch 31/50\n",
            "11/11 [==============================] - ETA: 0s - loss: 0.0035 - accuracy: 0.9995\n",
            "Epoch 31: loss did not improve from 0.00352\n",
            "11/11 [==============================] - 17s 2s/step - loss: 0.0035 - accuracy: 0.9995 - val_loss: 0.0145 - val_accuracy: 0.9995\n",
            "Epoch 32/50\n",
            "11/11 [==============================] - ETA: 0s - loss: 0.0035 - accuracy: 0.9995\n",
            "Epoch 32: loss did not improve from 0.00352\n",
            "11/11 [==============================] - 18s 2s/step - loss: 0.0035 - accuracy: 0.9995 - val_loss: 0.0090 - val_accuracy: 0.9995\n",
            "Epoch 33/50\n",
            "11/11 [==============================] - ETA: 0s - loss: 0.0036 - accuracy: 0.9995\n",
            "Epoch 33: loss did not improve from 0.00352\n",
            "11/11 [==============================] - 17s 2s/step - loss: 0.0036 - accuracy: 0.9995 - val_loss: 0.0114 - val_accuracy: 0.9995\n",
            "Epoch 34/50\n",
            "11/11 [==============================] - ETA: 0s - loss: 0.0035 - accuracy: 0.9995\n",
            "Epoch 34: loss improved from 0.00352 to 0.00346, saving model to windTurbine_segmentation.hdf5\n",
            "11/11 [==============================] - 21s 2s/step - loss: 0.0035 - accuracy: 0.9995 - val_loss: 0.0100 - val_accuracy: 0.9995\n",
            "Epoch 35/50\n",
            "11/11 [==============================] - ETA: 0s - loss: 0.0034 - accuracy: 0.9995\n",
            "Epoch 35: loss improved from 0.00346 to 0.00343, saving model to windTurbine_segmentation.hdf5\n",
            "11/11 [==============================] - 19s 2s/step - loss: 0.0034 - accuracy: 0.9995 - val_loss: 0.0095 - val_accuracy: 0.9995\n",
            "Epoch 36/50\n",
            "11/11 [==============================] - ETA: 0s - loss: 0.0034 - accuracy: 0.9995\n",
            "Epoch 36: loss improved from 0.00343 to 0.00342, saving model to windTurbine_segmentation.hdf5\n",
            "11/11 [==============================] - 19s 2s/step - loss: 0.0034 - accuracy: 0.9995 - val_loss: 0.0092 - val_accuracy: 0.9995\n",
            "Epoch 37/50\n",
            "11/11 [==============================] - ETA: 0s - loss: 0.0036 - accuracy: 0.9995\n",
            "Epoch 37: loss did not improve from 0.00342\n",
            "11/11 [==============================] - 17s 2s/step - loss: 0.0036 - accuracy: 0.9995 - val_loss: 0.0114 - val_accuracy: 0.9995\n",
            "Epoch 38/50\n",
            "11/11 [==============================] - ETA: 0s - loss: 0.0035 - accuracy: 0.9995\n",
            "Epoch 38: loss did not improve from 0.00342\n",
            "11/11 [==============================] - 17s 2s/step - loss: 0.0035 - accuracy: 0.9995 - val_loss: 0.0114 - val_accuracy: 0.9995\n",
            "Epoch 39/50\n",
            "11/11 [==============================] - ETA: 0s - loss: 0.0034 - accuracy: 0.9995\n",
            "Epoch 39: loss did not improve from 0.00342\n",
            "11/11 [==============================] - 17s 2s/step - loss: 0.0034 - accuracy: 0.9995 - val_loss: 0.0096 - val_accuracy: 0.9995\n",
            "Epoch 40/50\n",
            "11/11 [==============================] - ETA: 0s - loss: 0.0034 - accuracy: 0.9995\n",
            "Epoch 40: loss did not improve from 0.00342\n",
            "11/11 [==============================] - 17s 2s/step - loss: 0.0034 - accuracy: 0.9995 - val_loss: 0.0074 - val_accuracy: 0.9995\n",
            "Epoch 41/50\n",
            "11/11 [==============================] - ETA: 0s - loss: 0.0035 - accuracy: 0.9995\n",
            "Epoch 41: loss did not improve from 0.00342\n",
            "11/11 [==============================] - 17s 2s/step - loss: 0.0035 - accuracy: 0.9995 - val_loss: 0.0077 - val_accuracy: 0.9995\n",
            "Epoch 42/50\n",
            "11/11 [==============================] - ETA: 0s - loss: 0.0034 - accuracy: 0.9995\n",
            "Epoch 42: loss did not improve from 0.00342\n",
            "11/11 [==============================] - 17s 2s/step - loss: 0.0034 - accuracy: 0.9995 - val_loss: 0.0079 - val_accuracy: 0.9995\n",
            "Epoch 43/50\n",
            "11/11 [==============================] - ETA: 0s - loss: 0.0034 - accuracy: 0.9995\n",
            "Epoch 43: loss improved from 0.00342 to 0.00339, saving model to windTurbine_segmentation.hdf5\n",
            "11/11 [==============================] - 21s 2s/step - loss: 0.0034 - accuracy: 0.9995 - val_loss: 0.0084 - val_accuracy: 0.9995\n",
            "Epoch 44/50\n",
            "11/11 [==============================] - ETA: 0s - loss: 0.0034 - accuracy: 0.9995\n",
            "Epoch 44: loss did not improve from 0.00339\n",
            "11/11 [==============================] - 17s 2s/step - loss: 0.0034 - accuracy: 0.9995 - val_loss: 0.0091 - val_accuracy: 0.9995\n",
            "Epoch 45/50\n",
            "11/11 [==============================] - ETA: 0s - loss: 0.0035 - accuracy: 0.9995\n",
            "Epoch 45: loss did not improve from 0.00339\n",
            "11/11 [==============================] - 18s 2s/step - loss: 0.0035 - accuracy: 0.9995 - val_loss: 0.0098 - val_accuracy: 0.9995\n",
            "Epoch 46/50\n",
            "11/11 [==============================] - ETA: 0s - loss: 0.0034 - accuracy: 0.9995\n",
            "Epoch 46: loss did not improve from 0.00339\n",
            "11/11 [==============================] - 17s 2s/step - loss: 0.0034 - accuracy: 0.9995 - val_loss: 0.0096 - val_accuracy: 0.9995\n",
            "Epoch 47/50\n",
            "11/11 [==============================] - ETA: 0s - loss: 0.0034 - accuracy: 0.9995\n",
            "Epoch 47: loss improved from 0.00339 to 0.00338, saving model to windTurbine_segmentation.hdf5\n",
            "11/11 [==============================] - 21s 2s/step - loss: 0.0034 - accuracy: 0.9995 - val_loss: 0.0108 - val_accuracy: 0.9995\n",
            "Epoch 48/50\n",
            "11/11 [==============================] - ETA: 0s - loss: 0.0035 - accuracy: 0.9995\n",
            "Epoch 48: loss did not improve from 0.00338\n",
            "11/11 [==============================] - 17s 2s/step - loss: 0.0035 - accuracy: 0.9995 - val_loss: 0.0080 - val_accuracy: 0.9995\n",
            "Epoch 49/50\n",
            "11/11 [==============================] - ETA: 0s - loss: 0.0034 - accuracy: 0.9995\n",
            "Epoch 49: loss did not improve from 0.00338\n",
            "11/11 [==============================] - 18s 2s/step - loss: 0.0034 - accuracy: 0.9995 - val_loss: 0.0071 - val_accuracy: 0.9995\n",
            "Epoch 50/50\n",
            "11/11 [==============================] - ETA: 0s - loss: 0.0034 - accuracy: 0.9995\n",
            "Epoch 50: loss did not improve from 0.00338\n",
            "11/11 [==============================] - 17s 2s/step - loss: 0.0034 - accuracy: 0.9995 - val_loss: 0.0066 - val_accuracy: 0.9995\n"
          ]
        },
        {
          "output_type": "execute_result",
          "data": {
            "text/plain": [
              "<keras.callbacks.History at 0x7fe2a025bb20>"
            ]
          },
          "metadata": {},
          "execution_count": 11
        }
      ],
      "source": [
        "# train the model\n",
        "hm_epochs = 50\n",
        "batch_size = 5\n",
        "model.fit(imgs_train, imgs_mask_train, batch_size=batch_size, epochs=hm_epochs, verbose=1,\n",
        "          validation_split=0.2, shuffle=True, callbacks=[model_checkpoint])"
      ]
    },
    {
      "cell_type": "code",
      "execution_count": 26,
      "metadata": {
        "id": "dmI-V30naBmg",
        "outputId": "35c80eb3-f921-4dff-cc3b-5ba47d93d4b6",
        "colab": {
          "base_uri": "https://localhost:8080/"
        }
      },
      "outputs": [
        {
          "output_type": "stream",
          "name": "stdout",
          "text": [
            "12\n",
            "rgb_70.png\n",
            "rgb_71.png\n",
            "      1/Unknown - 8s 8s/steprgb_72.png\n",
            "      2/Unknown - 15s 8s/steprgb_73.png\n",
            "      3/Unknown - 23s 8s/steprgb_74.png\n",
            "      4/Unknown - 30s 8s/steprgb_75.png\n",
            "      5/Unknown - 40s 8s/steprgb_76.png\n",
            "      6/Unknown - 48s 8s/steprgb_77.png\n",
            "      7/Unknown - 55s 8s/steprgb_78.png\n",
            "      8/Unknown - 63s 8s/steprgb_79.png\n",
            "      9/Unknown - 70s 8s/steprgb_80.png\n",
            "     10/Unknown - 78s 8s/steprgb_81.png\n",
            "12/12 [==============================] - 93s 8s/step\n"
          ]
        }
      ],
      "source": [
        "# testing with new images\n",
        "# the test image folder contains 30 images\n",
        "test_path = 'test/images/'\n",
        "test_image_arr = glob.glob(os.path.join(test_path, \"*.png\"))\n",
        "num_of_test_images = len(test_image_arr)\n",
        "print(num_of_test_images)\n",
        "\n",
        "testGene = testGenerator(test_path, num_of_test_images)\n",
        "\n",
        "results = model.predict(testGene, num_of_test_images, verbose=1)\n",
        "\n",
        "# save the segmentation result in the \"outputs\" folder\n",
        "saveResult(\"outputs/\", results)"
      ]
    },
    {
      "cell_type": "code",
      "execution_count": 27,
      "metadata": {
        "id": "RzRmHEGWaBmg",
        "outputId": "2fa861f0-6e27-4ccc-aaa6-ff82f5762364",
        "colab": {
          "base_uri": "https://localhost:8080/"
        }
      },
      "outputs": [
        {
          "output_type": "stream",
          "name": "stdout",
          "text": [
            "model loading...\n",
            "model loaded succesfully!!!\n"
          ]
        }
      ],
      "source": [
        "# load the trained model\n",
        "print(\"model loading...\")\n",
        "trained_model = load_model('windTurbine_segmentation.hdf5')\n",
        "print(\"model loaded succesfully!!!\")"
      ]
    },
    {
      "cell_type": "code",
      "execution_count": 31,
      "metadata": {
        "id": "ZLpA7VHraBmg",
        "outputId": "3bce3adf-e67c-4df1-9966-2e5ac2e8f880",
        "colab": {
          "base_uri": "https://localhost:8080/",
          "height": 380
        }
      },
      "outputs": [
        {
          "output_type": "error",
          "ename": "FileNotFoundError",
          "evalue": "ignored",
          "traceback": [
            "\u001b[0;31m---------------------------------------------------------------------------\u001b[0m",
            "\u001b[0;31mFileNotFoundError\u001b[0m                         Traceback (most recent call last)",
            "\u001b[0;32m<ipython-input-31-792ea8f62801>\u001b[0m in \u001b[0;36m<module>\u001b[0;34m\u001b[0m\n\u001b[1;32m      3\u001b[0m \u001b[0midxs\u001b[0m \u001b[0;34m=\u001b[0m \u001b[0mnp\u001b[0m\u001b[0;34m.\u001b[0m\u001b[0mrandom\u001b[0m\u001b[0;34m.\u001b[0m\u001b[0mrandint\u001b[0m\u001b[0;34m(\u001b[0m\u001b[0;36m1\u001b[0m\u001b[0;34m,\u001b[0m \u001b[0;36m10\u001b[0m\u001b[0;34m,\u001b[0m \u001b[0mhm_demo\u001b[0m\u001b[0;34m)\u001b[0m\u001b[0;34m\u001b[0m\u001b[0;34m\u001b[0m\u001b[0m\n\u001b[1;32m      4\u001b[0m \u001b[0;32mfor\u001b[0m \u001b[0mitem\u001b[0m \u001b[0;32min\u001b[0m \u001b[0midxs\u001b[0m\u001b[0;34m:\u001b[0m\u001b[0;34m\u001b[0m\u001b[0;34m\u001b[0m\u001b[0m\n\u001b[0;32m----> 5\u001b[0;31m     \u001b[0mtestimg\u001b[0m \u001b[0;34m=\u001b[0m \u001b[0mgetItem\u001b[0m\u001b[0;34m(\u001b[0m\u001b[0mtest_path\u001b[0m\u001b[0;34m,\u001b[0m \u001b[0mitem\u001b[0m\u001b[0;34m)\u001b[0m\u001b[0;34m\u001b[0m\u001b[0;34m\u001b[0m\u001b[0m\n\u001b[0m\u001b[1;32m      6\u001b[0m     \u001b[0mresult\u001b[0m \u001b[0;34m=\u001b[0m \u001b[0mtrained_model\u001b[0m\u001b[0;34m.\u001b[0m\u001b[0mpredict\u001b[0m\u001b[0;34m(\u001b[0m\u001b[0mtestimg\u001b[0m\u001b[0;34m)\u001b[0m\u001b[0;34m\u001b[0m\u001b[0;34m\u001b[0m\u001b[0m\n\u001b[1;32m      7\u001b[0m     \u001b[0mf\u001b[0m\u001b[0;34m,\u001b[0m \u001b[0maxarr\u001b[0m \u001b[0;34m=\u001b[0m \u001b[0mplt\u001b[0m\u001b[0;34m.\u001b[0m\u001b[0msubplots\u001b[0m\u001b[0;34m(\u001b[0m\u001b[0;36m1\u001b[0m\u001b[0;34m,\u001b[0m \u001b[0;36m2\u001b[0m\u001b[0;34m)\u001b[0m\u001b[0;34m\u001b[0m\u001b[0;34m\u001b[0m\u001b[0m\n",
            "\u001b[0;32m<ipython-input-29-35caab75f4c2>\u001b[0m in \u001b[0;36mgetItem\u001b[0;34m(img_path, item)\u001b[0m\n\u001b[1;32m      1\u001b[0m \u001b[0;32mdef\u001b[0m \u001b[0mgetItem\u001b[0m\u001b[0;34m(\u001b[0m\u001b[0mimg_path\u001b[0m\u001b[0;34m,\u001b[0m \u001b[0mitem\u001b[0m\u001b[0;34m)\u001b[0m\u001b[0;34m:\u001b[0m\u001b[0;34m\u001b[0m\u001b[0;34m\u001b[0m\u001b[0m\n\u001b[1;32m      2\u001b[0m     \u001b[0midx\u001b[0m \u001b[0;34m=\u001b[0m \u001b[0mstr\u001b[0m\u001b[0;34m(\u001b[0m\u001b[0mitem\u001b[0m\u001b[0;34m+\u001b[0m\u001b[0;36m1\u001b[0m\u001b[0;34m)\u001b[0m\u001b[0;34m.\u001b[0m\u001b[0mzfill\u001b[0m\u001b[0;34m(\u001b[0m\u001b[0;36m5\u001b[0m\u001b[0;34m)\u001b[0m \u001b[0;34m+\u001b[0m \u001b[0;34m\".png\"\u001b[0m\u001b[0;34m\u001b[0m\u001b[0;34m\u001b[0m\u001b[0m\n\u001b[0;32m----> 3\u001b[0;31m     \u001b[0mimg\u001b[0m \u001b[0;34m=\u001b[0m \u001b[0mio\u001b[0m\u001b[0;34m.\u001b[0m\u001b[0mimread\u001b[0m\u001b[0;34m(\u001b[0m\u001b[0mos\u001b[0m\u001b[0;34m.\u001b[0m\u001b[0mpath\u001b[0m\u001b[0;34m.\u001b[0m\u001b[0mjoin\u001b[0m\u001b[0;34m(\u001b[0m\u001b[0mimg_path\u001b[0m\u001b[0;34m,\u001b[0m \u001b[0midx\u001b[0m\u001b[0;34m)\u001b[0m\u001b[0;34m,\u001b[0m \u001b[0mas_gray\u001b[0m\u001b[0;34m=\u001b[0m\u001b[0;32mTrue\u001b[0m\u001b[0;34m)\u001b[0m\u001b[0;34m\u001b[0m\u001b[0;34m\u001b[0m\u001b[0m\n\u001b[0m\u001b[1;32m      4\u001b[0m     \u001b[0mimg\u001b[0m \u001b[0;34m=\u001b[0m \u001b[0mimg\u001b[0m\u001b[0;34m/\u001b[0m\u001b[0;36m255.0\u001b[0m\u001b[0;34m\u001b[0m\u001b[0;34m\u001b[0m\u001b[0m\n\u001b[1;32m      5\u001b[0m     \u001b[0mimg\u001b[0m \u001b[0;34m=\u001b[0m \u001b[0mnp\u001b[0m\u001b[0;34m.\u001b[0m\u001b[0mreshape\u001b[0m\u001b[0;34m(\u001b[0m\u001b[0mimg\u001b[0m\u001b[0;34m,\u001b[0m \u001b[0mimg\u001b[0m\u001b[0;34m.\u001b[0m\u001b[0mshape\u001b[0m \u001b[0;34m+\u001b[0m \u001b[0;34m(\u001b[0m\u001b[0;36m1\u001b[0m\u001b[0;34m,\u001b[0m\u001b[0;34m)\u001b[0m\u001b[0;34m)\u001b[0m\u001b[0;34m\u001b[0m\u001b[0;34m\u001b[0m\u001b[0m\n",
            "\u001b[0;32m/usr/local/lib/python3.8/dist-packages/skimage/io/_io.py\u001b[0m in \u001b[0;36mimread\u001b[0;34m(fname, as_gray, plugin, **plugin_args)\u001b[0m\n\u001b[1;32m     46\u001b[0m \u001b[0;34m\u001b[0m\u001b[0m\n\u001b[1;32m     47\u001b[0m     \u001b[0;32mwith\u001b[0m \u001b[0mfile_or_url_context\u001b[0m\u001b[0;34m(\u001b[0m\u001b[0mfname\u001b[0m\u001b[0;34m)\u001b[0m \u001b[0;32mas\u001b[0m \u001b[0mfname\u001b[0m\u001b[0;34m:\u001b[0m\u001b[0;34m\u001b[0m\u001b[0;34m\u001b[0m\u001b[0m\n\u001b[0;32m---> 48\u001b[0;31m         \u001b[0mimg\u001b[0m \u001b[0;34m=\u001b[0m \u001b[0mcall_plugin\u001b[0m\u001b[0;34m(\u001b[0m\u001b[0;34m'imread'\u001b[0m\u001b[0;34m,\u001b[0m \u001b[0mfname\u001b[0m\u001b[0;34m,\u001b[0m \u001b[0mplugin\u001b[0m\u001b[0;34m=\u001b[0m\u001b[0mplugin\u001b[0m\u001b[0;34m,\u001b[0m \u001b[0;34m**\u001b[0m\u001b[0mplugin_args\u001b[0m\u001b[0;34m)\u001b[0m\u001b[0;34m\u001b[0m\u001b[0;34m\u001b[0m\u001b[0m\n\u001b[0m\u001b[1;32m     49\u001b[0m \u001b[0;34m\u001b[0m\u001b[0m\n\u001b[1;32m     50\u001b[0m     \u001b[0;32mif\u001b[0m \u001b[0;32mnot\u001b[0m \u001b[0mhasattr\u001b[0m\u001b[0;34m(\u001b[0m\u001b[0mimg\u001b[0m\u001b[0;34m,\u001b[0m \u001b[0;34m'ndim'\u001b[0m\u001b[0;34m)\u001b[0m\u001b[0;34m:\u001b[0m\u001b[0;34m\u001b[0m\u001b[0;34m\u001b[0m\u001b[0m\n",
            "\u001b[0;32m/usr/local/lib/python3.8/dist-packages/skimage/io/manage_plugins.py\u001b[0m in \u001b[0;36mcall_plugin\u001b[0;34m(kind, *args, **kwargs)\u001b[0m\n\u001b[1;32m    205\u001b[0m                                (plugin, kind))\n\u001b[1;32m    206\u001b[0m \u001b[0;34m\u001b[0m\u001b[0m\n\u001b[0;32m--> 207\u001b[0;31m     \u001b[0;32mreturn\u001b[0m \u001b[0mfunc\u001b[0m\u001b[0;34m(\u001b[0m\u001b[0;34m*\u001b[0m\u001b[0margs\u001b[0m\u001b[0;34m,\u001b[0m \u001b[0;34m**\u001b[0m\u001b[0mkwargs\u001b[0m\u001b[0;34m)\u001b[0m\u001b[0;34m\u001b[0m\u001b[0;34m\u001b[0m\u001b[0m\n\u001b[0m\u001b[1;32m    208\u001b[0m \u001b[0;34m\u001b[0m\u001b[0m\n\u001b[1;32m    209\u001b[0m \u001b[0;34m\u001b[0m\u001b[0m\n",
            "\u001b[0;32m/usr/local/lib/python3.8/dist-packages/skimage/io/_plugins/imageio_plugin.py\u001b[0m in \u001b[0;36mimread\u001b[0;34m(*args, **kwargs)\u001b[0m\n\u001b[1;32m      8\u001b[0m \u001b[0;34m@\u001b[0m\u001b[0mwraps\u001b[0m\u001b[0;34m(\u001b[0m\u001b[0mimageio_imread\u001b[0m\u001b[0;34m)\u001b[0m\u001b[0;34m\u001b[0m\u001b[0;34m\u001b[0m\u001b[0m\n\u001b[1;32m      9\u001b[0m \u001b[0;32mdef\u001b[0m \u001b[0mimread\u001b[0m\u001b[0;34m(\u001b[0m\u001b[0;34m*\u001b[0m\u001b[0margs\u001b[0m\u001b[0;34m,\u001b[0m \u001b[0;34m**\u001b[0m\u001b[0mkwargs\u001b[0m\u001b[0;34m)\u001b[0m\u001b[0;34m:\u001b[0m\u001b[0;34m\u001b[0m\u001b[0;34m\u001b[0m\u001b[0m\n\u001b[0;32m---> 10\u001b[0;31m     \u001b[0;32mreturn\u001b[0m \u001b[0mnp\u001b[0m\u001b[0;34m.\u001b[0m\u001b[0masarray\u001b[0m\u001b[0;34m(\u001b[0m\u001b[0mimageio_imread\u001b[0m\u001b[0;34m(\u001b[0m\u001b[0;34m*\u001b[0m\u001b[0margs\u001b[0m\u001b[0;34m,\u001b[0m \u001b[0;34m**\u001b[0m\u001b[0mkwargs\u001b[0m\u001b[0;34m)\u001b[0m\u001b[0;34m)\u001b[0m\u001b[0;34m\u001b[0m\u001b[0;34m\u001b[0m\u001b[0m\n\u001b[0m",
            "\u001b[0;32m/usr/local/lib/python3.8/dist-packages/imageio/core/functions.py\u001b[0m in \u001b[0;36mimread\u001b[0;34m(uri, format, **kwargs)\u001b[0m\n\u001b[1;32m    263\u001b[0m \u001b[0;34m\u001b[0m\u001b[0m\n\u001b[1;32m    264\u001b[0m     \u001b[0;31m# Get reader and read first\u001b[0m\u001b[0;34m\u001b[0m\u001b[0;34m\u001b[0m\u001b[0;34m\u001b[0m\u001b[0m\n\u001b[0;32m--> 265\u001b[0;31m     \u001b[0mreader\u001b[0m \u001b[0;34m=\u001b[0m \u001b[0mread\u001b[0m\u001b[0;34m(\u001b[0m\u001b[0muri\u001b[0m\u001b[0;34m,\u001b[0m \u001b[0mformat\u001b[0m\u001b[0;34m,\u001b[0m \u001b[0;34m\"i\"\u001b[0m\u001b[0;34m,\u001b[0m \u001b[0;34m**\u001b[0m\u001b[0mkwargs\u001b[0m\u001b[0;34m)\u001b[0m\u001b[0;34m\u001b[0m\u001b[0;34m\u001b[0m\u001b[0m\n\u001b[0m\u001b[1;32m    266\u001b[0m     \u001b[0;32mwith\u001b[0m \u001b[0mreader\u001b[0m\u001b[0;34m:\u001b[0m\u001b[0;34m\u001b[0m\u001b[0;34m\u001b[0m\u001b[0m\n\u001b[1;32m    267\u001b[0m         \u001b[0;32mreturn\u001b[0m \u001b[0mreader\u001b[0m\u001b[0;34m.\u001b[0m\u001b[0mget_data\u001b[0m\u001b[0;34m(\u001b[0m\u001b[0;36m0\u001b[0m\u001b[0;34m)\u001b[0m\u001b[0;34m\u001b[0m\u001b[0;34m\u001b[0m\u001b[0m\n",
            "\u001b[0;32m/usr/local/lib/python3.8/dist-packages/imageio/core/functions.py\u001b[0m in \u001b[0;36mget_reader\u001b[0;34m(uri, format, mode, **kwargs)\u001b[0m\n\u001b[1;32m    170\u001b[0m \u001b[0;34m\u001b[0m\u001b[0m\n\u001b[1;32m    171\u001b[0m     \u001b[0;31m# Create request object\u001b[0m\u001b[0;34m\u001b[0m\u001b[0;34m\u001b[0m\u001b[0;34m\u001b[0m\u001b[0m\n\u001b[0;32m--> 172\u001b[0;31m     \u001b[0mrequest\u001b[0m \u001b[0;34m=\u001b[0m \u001b[0mRequest\u001b[0m\u001b[0;34m(\u001b[0m\u001b[0muri\u001b[0m\u001b[0;34m,\u001b[0m \u001b[0;34m\"r\"\u001b[0m \u001b[0;34m+\u001b[0m \u001b[0mmode\u001b[0m\u001b[0;34m,\u001b[0m \u001b[0;34m**\u001b[0m\u001b[0mkwargs\u001b[0m\u001b[0;34m)\u001b[0m\u001b[0;34m\u001b[0m\u001b[0;34m\u001b[0m\u001b[0m\n\u001b[0m\u001b[1;32m    173\u001b[0m \u001b[0;34m\u001b[0m\u001b[0m\n\u001b[1;32m    174\u001b[0m     \u001b[0;31m# Get format\u001b[0m\u001b[0;34m\u001b[0m\u001b[0;34m\u001b[0m\u001b[0;34m\u001b[0m\u001b[0m\n",
            "\u001b[0;32m/usr/local/lib/python3.8/dist-packages/imageio/core/request.py\u001b[0m in \u001b[0;36m__init__\u001b[0;34m(self, uri, mode, **kwargs)\u001b[0m\n\u001b[1;32m    122\u001b[0m \u001b[0;34m\u001b[0m\u001b[0m\n\u001b[1;32m    123\u001b[0m         \u001b[0;31m# Parse what was given\u001b[0m\u001b[0;34m\u001b[0m\u001b[0;34m\u001b[0m\u001b[0;34m\u001b[0m\u001b[0m\n\u001b[0;32m--> 124\u001b[0;31m         \u001b[0mself\u001b[0m\u001b[0;34m.\u001b[0m\u001b[0m_parse_uri\u001b[0m\u001b[0;34m(\u001b[0m\u001b[0muri\u001b[0m\u001b[0;34m)\u001b[0m\u001b[0;34m\u001b[0m\u001b[0;34m\u001b[0m\u001b[0m\n\u001b[0m\u001b[1;32m    125\u001b[0m \u001b[0;34m\u001b[0m\u001b[0m\n\u001b[1;32m    126\u001b[0m         \u001b[0;31m# Set extension\u001b[0m\u001b[0;34m\u001b[0m\u001b[0;34m\u001b[0m\u001b[0;34m\u001b[0m\u001b[0m\n",
            "\u001b[0;32m/usr/local/lib/python3.8/dist-packages/imageio/core/request.py\u001b[0m in \u001b[0;36m_parse_uri\u001b[0;34m(self, uri)\u001b[0m\n\u001b[1;32m    258\u001b[0m                 \u001b[0;31m# Reading: check that the file exists (but is allowed a dir)\u001b[0m\u001b[0;34m\u001b[0m\u001b[0;34m\u001b[0m\u001b[0;34m\u001b[0m\u001b[0m\n\u001b[1;32m    259\u001b[0m                 \u001b[0;32mif\u001b[0m \u001b[0;32mnot\u001b[0m \u001b[0mos\u001b[0m\u001b[0;34m.\u001b[0m\u001b[0mpath\u001b[0m\u001b[0;34m.\u001b[0m\u001b[0mexists\u001b[0m\u001b[0;34m(\u001b[0m\u001b[0mfn\u001b[0m\u001b[0;34m)\u001b[0m\u001b[0;34m:\u001b[0m\u001b[0;34m\u001b[0m\u001b[0;34m\u001b[0m\u001b[0m\n\u001b[0;32m--> 260\u001b[0;31m                     \u001b[0;32mraise\u001b[0m \u001b[0mFileNotFoundError\u001b[0m\u001b[0;34m(\u001b[0m\u001b[0;34m\"No such file: '%s'\"\u001b[0m \u001b[0;34m%\u001b[0m \u001b[0mfn\u001b[0m\u001b[0;34m)\u001b[0m\u001b[0;34m\u001b[0m\u001b[0;34m\u001b[0m\u001b[0m\n\u001b[0m\u001b[1;32m    261\u001b[0m             \u001b[0;32melse\u001b[0m\u001b[0;34m:\u001b[0m\u001b[0;34m\u001b[0m\u001b[0;34m\u001b[0m\u001b[0m\n\u001b[1;32m    262\u001b[0m                 \u001b[0;31m# Writing: check that the directory to write to does exist\u001b[0m\u001b[0;34m\u001b[0m\u001b[0;34m\u001b[0m\u001b[0;34m\u001b[0m\u001b[0m\n",
            "\u001b[0;31mFileNotFoundError\u001b[0m: No such file: '/content/drive/MyDrive/NoteBooks/Unet-Dr_Rahman/test/images/00002.png'"
          ]
        }
      ],
      "source": [
        "# showing the demo with any random number of images from the test folder\n",
        "hm_demo = 5\n",
        "idxs = np.random.randint(1, 10, hm_demo)\n",
        "for item in idxs:\n",
        "    testimg = getItem(test_path, item)\n",
        "    result = trained_model.predict(testimg)\n",
        "    f, axarr = plt.subplots(1, 2)\n",
        "    axarr[0].imshow(np.reshape(testimg, (256, 256)), cmap='gray')\n",
        "    axarr[1].imshow(np.reshape(result, (256,256)), cmap='gray')"
      ]
    }
  ],
  "metadata": {
    "kernelspec": {
      "display_name": "Python 3",
      "language": "python",
      "name": "python3"
    },
    "language_info": {
      "codemirror_mode": {
        "name": "ipython",
        "version": 3
      },
      "file_extension": ".py",
      "mimetype": "text/x-python",
      "name": "python",
      "nbconvert_exporter": "python",
      "pygments_lexer": "ipython3",
      "version": "3.6.8"
    },
    "colab": {
      "provenance": []
    },
    "gpuClass": "standard"
  },
  "nbformat": 4,
  "nbformat_minor": 0
}