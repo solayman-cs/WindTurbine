{
  "cells": [
    {
      "cell_type": "markdown",
      "metadata": {
        "id": "view-in-github",
        "colab_type": "text"
      },
      "source": [
        "<a href=\"https://colab.research.google.com/github/solayman-cs/WindTurbine/blob/main/demo.ipynb\" target=\"_parent\"><img src=\"https://colab.research.google.com/assets/colab-badge.svg\" alt=\"Open In Colab\"/></a>"
      ]
    },
    {
      "cell_type": "code",
      "source": [
        "from google.colab import drive\n",
        "drive.mount('/content/drive')"
      ],
      "metadata": {
        "id": "oSSnqX0taNEo",
        "colab": {
          "base_uri": "https://localhost:8080/"
        },
        "outputId": "d727b768-2062-4355-febd-95bb886310b6"
      },
      "execution_count": 1,
      "outputs": [
        {
          "output_type": "stream",
          "name": "stdout",
          "text": [
            "Mounted at /content/drive\n"
          ]
        }
      ]
    },
    {
      "cell_type": "code",
      "source": [
        "%cd /content/drive/My Drive/NoteBooks/Unet-Dr_Rahman"
      ],
      "metadata": {
        "colab": {
          "base_uri": "https://localhost:8080/"
        },
        "id": "pexx60VUaRSM",
        "outputId": "9eb9730b-cf65-4c4b-b994-e6f7b1c10c49"
      },
      "execution_count": 2,
      "outputs": [
        {
          "output_type": "stream",
          "name": "stdout",
          "text": [
            "/content/drive/My Drive/NoteBooks/Unet-Dr_Rahman\n"
          ]
        }
      ]
    },
    {
      "cell_type": "code",
      "execution_count": 3,
      "metadata": {
        "colab": {
          "base_uri": "https://localhost:8080/"
        },
        "id": "vDHzkK_taBmY",
        "outputId": "3e7ce618-ca34-419e-8a44-627f9ff20116"
      },
      "outputs": [
        {
          "output_type": "stream",
          "name": "stderr",
          "text": [
            "<ipython-input-3-6b3094a0ee79>:8: UserWarning: Viewer requires Qt\n",
            "  from skimage.viewer import ImageViewer\n"
          ]
        }
      ],
      "source": [
        "#import all the libraries\n",
        "import numpy as np\n",
        "from keras.preprocessing.image import ImageDataGenerator\n",
        "import os\n",
        "import glob\n",
        "import skimage.io as io\n",
        "from PIL import Image\n",
        "from skimage.viewer import ImageViewer\n",
        "import matplotlib.pyplot as plt\n",
        "from model import *"
      ]
    },
    {
      "cell_type": "code",
      "execution_count": 4,
      "metadata": {
        "id": "e-JrqkUsaBmc"
      },
      "outputs": [],
      "source": [
        "def trainGenerator(image_path,mask_path,flag_multi_class = False,num_class = 2,image_prefix = \"image\",mask_prefix = \"mask\",image_as_gray = True,mask_as_gray = True):\n",
        "    image_name_arr = glob.glob(os.path.join(image_path,\"*.png\"))\n",
        "    mask_name_arr = glob.glob(os.path.join(mask_path, \"*.png\"))\n",
        "    image_arr = []\n",
        "    mask_arr = []\n",
        "    for index,item in enumerate(image_name_arr):\n",
        "        img = io.imread(item,as_gray = image_as_gray)\n",
        "        img = np.reshape(img,img.shape + (1,)) if image_as_gray else img\n",
        "        img = img / 255\n",
        "        image_arr.append(img)\n",
        "\n",
        "    for index, item in enumerate(mask_name_arr):\n",
        "        mask = io.imread(item, as_gray = image_as_gray)\n",
        "        mask = np.reshape(mask,mask.shape + (1,)) if mask_as_gray else mask\n",
        "        mask = mask/255\n",
        "        mask[mask>0.5] = 1\n",
        "        mask[mask<=0.5] = 0\n",
        "        mask_arr.append(mask)\n",
        "\n",
        "    image_arr = np.array(image_arr)\n",
        "    mask_arr = np.array(mask_arr)\n",
        "    return image_arr,mask_arr"
      ]
    },
    {
      "cell_type": "code",
      "execution_count": 5,
      "metadata": {
        "id": "09S1PtvkaBmd"
      },
      "outputs": [],
      "source": [
        "def testGenerator(test_path, image_num):\n",
        "    for i in range(image_num):\n",
        "        idx = str(i+1).zfill(5) + \".png\"\n",
        "        img = io.imread(os.path.join(test_path, idx), as_gray=True)\n",
        "        img = img / 255\n",
        "        img = np.reshape(img, img.shape + (1,))\n",
        "        img = np.reshape(img,(1,)+img.shape)\n",
        "        yield img"
      ]
    },
    {
      "cell_type": "code",
      "execution_count": 6,
      "metadata": {
        "id": "mu-HJB81aBmd"
      },
      "outputs": [],
      "source": [
        "def getItem(img_path, item):\n",
        "    idx = str(item+1).zfill(5) + \".png\"\n",
        "    img = io.imread(os.path.join(img_path, idx), as_gray=True)\n",
        "    img = img/255.0\n",
        "    img = np.reshape(img, img.shape + (1,))\n",
        "    img = np.reshape(img,(1,)+img.shape)\n",
        "    return img"
      ]
    },
    {
      "cell_type": "code",
      "execution_count": 7,
      "metadata": {
        "id": "87TamVe1aBmd"
      },
      "outputs": [],
      "source": [
        "def saveResult(save_path, files):\n",
        "    for i, item in enumerate(files):\n",
        "        img = item[:,:,0]\n",
        "        idx = str(i+1).zfill(5) + \".png\"\n",
        "        io.imsave(os.path.join(save_path, idx), img)"
      ]
    },
    {
      "cell_type": "code",
      "execution_count": 8,
      "metadata": {
        "id": "WfDLkh1GaBme"
      },
      "outputs": [],
      "source": [
        "def viewImage(array1, array2, i):\n",
        "    img = np.reshape(array1[i], (512, 512))\n",
        "    mask = np.reshape(array2[i], (512, 512))\n",
        "    f, axarr = plt.subplots(1,2)\n",
        "    axarr[0].imshow(img, cmap=plt.cm.gray)\n",
        "    axarr[1].imshow(mask, cmap=plt.cm.gray)\n",
        "    plt.show()"
      ]
    },
    {
      "cell_type": "code",
      "execution_count": 10,
      "metadata": {
        "colab": {
          "base_uri": "https://localhost:8080/",
          "height": 239
        },
        "id": "MtVwypYMaBme",
        "outputId": "810bf938-dba7-4e30-b8fe-e22c4abc535c"
      },
      "outputs": [
        {
          "output_type": "stream",
          "name": "stdout",
          "text": [
            "(69, 512, 512, 1)\n",
            "(69, 512, 512, 1)\n"
          ]
        },
        {
          "output_type": "display_data",
          "data": {
            "text/plain": [
              "<Figure size 432x288 with 2 Axes>"
            ],
            "image/png": "[encoded data removed]"
          },
          "metadata": {
            "needs_background": "light"
          }
        }
      ],
      "source": [
        "# Load the train data and their corresponding labels\n",
        "# Visualize a sample image\n",
        "imgs_train,imgs_mask_train= trainGenerator(\"train/images/\",\"train/masks/\")\n",
        "print(imgs_train.shape)   \n",
        "print(imgs_mask_train.shape)\n",
        "index = np.random.randint(1, 50)\n",
        "viewImage(imgs_train, imgs_mask_train, index)"
      ]
    },
    {
      "cell_type": "code",
      "source": [
        "from keras import backend as K\n",
        "def iou_coef(y_true, y_pred, smooth=1):\n",
        "  intersection = K.sum(K.abs(y_true * y_pred), axis=[1,2,3])\n",
        "  union = K.sum(y_true,[1,2,3])+K.sum(y_pred,[1,2,3])-intersection\n",
        "  iou = K.mean((intersection + smooth) / (union + smooth), axis=0)\n",
        "  return iou"
      ],
      "metadata": {
        "id": "rw_UBgQy0sgB"
      },
      "execution_count": 11,
      "outputs": []
    },
    {
      "cell_type": "code",
      "source": [
        "def dice_coef(y_true, y_pred, smooth=1):\n",
        "  intersection = K.sum(y_true * y_pred, axis=[1,2,3])\n",
        "  union = K.sum(y_true, axis=[1,2,3]) + K.sum(y_pred, axis=[1,2,3])\n",
        "  dice = K.mean((2. * intersection + smooth)/(union + smooth), axis=0)\n",
        "  return dice"
      ],
      "metadata": {
        "id": "pqxgSv9u3Chy"
      },
      "execution_count": 12,
      "outputs": []
    },
    {
      "cell_type": "code",
      "source": [
        "from keras import backend as K\n",
        "def jaccard_loss(y_true, y_pred, smooth=100):\n",
        "    intersection = K.sum(K.abs(y_true * y_pred), axis=-1)\n",
        "    sum_ = K.sum(K.abs(y_true) + K.abs(y_pred), axis=-1)\n",
        "    jac = (intersection + smooth) / (sum_ - intersection + smooth)\n",
        "    return (1 - jac) * smooth"
      ],
      "metadata": {
        "id": "GsVYO12O1kjb"
      },
      "execution_count": 13,
      "outputs": []
    },
    {
      "cell_type": "code",
      "source": [
        "import numpy as np \n",
        "import os\n",
        "import skimage.io as io\n",
        "import skimage.transform as trans\n",
        "import numpy as np\n",
        "from keras.models import *\n",
        "from keras.layers import *\n",
        "from keras.optimizers import *\n",
        "from keras.callbacks import ModelCheckpoint, LearningRateScheduler\n",
        "from keras import backend as keras\n",
        "\n",
        "def unet(input_size = (512, 512,1)):\n",
        "    inputs = Input(input_size)\n",
        "    conv1 = Conv2D(64, 3, activation = 'relu', padding = 'same', kernel_initializer = 'he_normal')(inputs)\n",
        "    conv1 = Conv2D(64, 3, activation = 'relu', padding = 'same', kernel_initializer = 'he_normal')(conv1)\n",
        "    pool1 = MaxPooling2D(pool_size=(2, 2))(conv1)\n",
        "    conv2 = Conv2D(128, 3, activation = 'relu', padding = 'same', kernel_initializer = 'he_normal')(pool1)\n",
        "    conv2 = Conv2D(128, 3, activation = 'relu', padding = 'same', kernel_initializer = 'he_normal')(conv2)\n",
        "    pool2 = MaxPooling2D(pool_size=(2, 2))(conv2)\n",
        "    conv3 = Conv2D(256, 3, activation = 'relu', padding = 'same', kernel_initializer = 'he_normal')(pool2)\n",
        "    conv3 = Conv2D(256, 3, activation = 'relu', padding = 'same', kernel_initializer = 'he_normal')(conv3)\n",
        "    pool3 = MaxPooling2D(pool_size=(2, 2))(conv3)\n",
        "    conv4 = Conv2D(512, 3, activation = 'relu', padding = 'same', kernel_initializer = 'he_normal')(pool3)\n",
        "    conv4 = Conv2D(512, 3, activation = 'relu', padding = 'same', kernel_initializer = 'he_normal')(conv4)\n",
        "    drop4 = Dropout(0.5)(conv4)\n",
        "    pool4 = MaxPooling2D(pool_size=(2, 2))(drop4)\n",
        "\n",
        "    conv5 = Conv2D(1024, 3, activation = 'relu', padding = 'same', kernel_initializer = 'he_normal')(pool4)\n",
        "    conv5 = Conv2D(1024, 3, activation = 'relu', padding = 'same', kernel_initializer = 'he_normal')(conv5)\n",
        "    drop5 = Dropout(0.5)(conv5)\n",
        "\n",
        "    up6 = Conv2D(512, 2, activation = 'relu', padding = 'same', kernel_initializer = 'he_normal')(UpSampling2D(size = (2,2))(drop5))\n",
        "    merge6 = concatenate([drop4,up6], axis = 3)\n",
        "    conv6 = Conv2D(512, 3, activation = 'relu', padding = 'same', kernel_initializer = 'he_normal')(merge6)\n",
        "    conv6 = Conv2D(512, 3, activation = 'relu', padding = 'same', kernel_initializer = 'he_normal')(conv6)\n",
        "\n",
        "    up7 = Conv2D(256, 2, activation = 'relu', padding = 'same', kernel_initializer = 'he_normal')(UpSampling2D(size = (2,2))(conv6))\n",
        "    merge7 = concatenate([conv3,up7], axis = 3)\n",
        "    conv7 = Conv2D(256, 3, activation = 'relu', padding = 'same', kernel_initializer = 'he_normal')(merge7)\n",
        "    conv7 = Conv2D(256, 3, activation = 'relu', padding = 'same', kernel_initializer = 'he_normal')(conv7)\n",
        "\n",
        "    up8 = Conv2D(128, 2, activation = 'relu', padding = 'same', kernel_initializer = 'he_normal')(UpSampling2D(size = (2,2))(conv7))\n",
        "    merge8 = concatenate([conv2,up8], axis = 3)\n",
        "    conv8 = Conv2D(128, 3, activation = 'relu', padding = 'same', kernel_initializer = 'he_normal')(merge8)\n",
        "    conv8 = Conv2D(128, 3, activation = 'relu', padding = 'same', kernel_initializer = 'he_normal')(conv8)\n",
        "\n",
        "    up9 = Conv2D(64, 2, activation = 'relu', padding = 'same', kernel_initializer = 'he_normal')(UpSampling2D(size = (2,2))(conv8))\n",
        "    merge9 = concatenate([conv1,up9], axis = 3)\n",
        "    conv9 = Conv2D(64, 3, activation = 'relu', padding = 'same', kernel_initializer = 'he_normal')(merge9)\n",
        "    conv9 = Conv2D(64, 3, activation = 'relu', padding = 'same', kernel_initializer = 'he_normal')(conv9)\n",
        "    conv9 = Conv2D(2, 3, activation = 'relu', padding = 'same', kernel_initializer = 'he_normal')(conv9)\n",
        "    conv10 = Conv2D(1, 1, activation = 'sigmoid')(conv9)\n",
        "\n",
        "    model = Model(inputs, conv10)\n",
        "\n",
        "    model.compile(optimizer = Adam(lr = 1e-4), loss = [jaccard_loss], metrics = [dice_coef])\n",
        "\n",
        "    return model\n",
        "\n"
      ],
      "metadata": {
        "id": "nilhwBQi0Shq"
      },
      "execution_count": 14,
      "outputs": []
    },
    {
      "cell_type": "code",
      "execution_count": 15,
      "metadata": {
        "colab": {
          "base_uri": "https://localhost:8080/"
        },
        "id": "dOM7fOulaBmf",
        "outputId": "a63d03c8-7a7e-4028-db6e-c00fee073f9f"
      },
      "outputs": [
        {
          "output_type": "stream",
          "name": "stdout",
          "text": [
            "Model: \"model\"\n",
            "__________________________________________________________________________________________________\n",
            " Layer (type)                   Output Shape         Param #     Connected to                     \n",
            "==================================================================================================\n",
            " input_1 (InputLayer)           [(None, 512, 512, 1  0           []                               \n",
            "                                )]                                                                \n",
            "                                                                                                  \n",
            " conv2d (Conv2D)                (None, 512, 512, 64  640         ['input_1[0][0]']                \n",
            "                                )                                                                 \n",
            "                                                                                                  \n",
            " conv2d_1 (Conv2D)              (None, 512, 512, 64  36928       ['conv2d[0][0]']                 \n",
            "                                )                                                                 \n",
            "                                                                                                  \n",
            " max_pooling2d (MaxPooling2D)   (None, 256, 256, 64  0           ['conv2d_1[0][0]']               \n",
            "                                )                                                                 \n",
            "                                                                                                  \n",
            " conv2d_2 (Conv2D)              (None, 256, 256, 12  73856       ['max_pooling2d[0][0]']          \n",
            "                                8)                                                                \n",
            "                                                                                                  \n",
            " conv2d_3 (Conv2D)              (None, 256, 256, 12  147584      ['conv2d_2[0][0]']               \n",
            "                                8)                                                                \n",
            "                                                                                                  \n",
            " max_pooling2d_1 (MaxPooling2D)  (None, 128, 128, 12  0          ['conv2d_3[0][0]']               \n",
            "                                8)                                                                \n",
            "                                                                                                  \n",
            " conv2d_4 (Conv2D)              (None, 128, 128, 25  295168      ['max_pooling2d_1[0][0]']        \n",
            "                                6)                                                                \n",
            "                                                                                                  \n",
            " conv2d_5 (Conv2D)              (None, 128, 128, 25  590080      ['conv2d_4[0][0]']               \n",
            "                                6)                                                                \n",
            "                                                                                                  \n",
            " max_pooling2d_2 (MaxPooling2D)  (None, 64, 64, 256)  0          ['conv2d_5[0][0]']               \n",
            "                                                                                                  \n",
            " conv2d_6 (Conv2D)              (None, 64, 64, 512)  1180160     ['max_pooling2d_2[0][0]']        \n",
            "                                                                                                  \n",
            " conv2d_7 (Conv2D)              (None, 64, 64, 512)  2359808     ['conv2d_6[0][0]']               \n",
            "                                                                                                  \n",
            " dropout (Dropout)              (None, 64, 64, 512)  0           ['conv2d_7[0][0]']               \n",
            "                                                                                                  \n",
            " max_pooling2d_3 (MaxPooling2D)  (None, 32, 32, 512)  0          ['dropout[0][0]']                \n",
            "                                                                                                  \n",
            " conv2d_8 (Conv2D)              (None, 32, 32, 1024  4719616     ['max_pooling2d_3[0][0]']        \n",
            "                                )                                                                 \n",
            "                                                                                                  \n",
            " conv2d_9 (Conv2D)              (None, 32, 32, 1024  9438208     ['conv2d_8[0][0]']               \n",
            "                                )                                                                 \n",
            "                                                                                                  \n",
            " dropout_1 (Dropout)            (None, 32, 32, 1024  0           ['conv2d_9[0][0]']               \n",
            "                                )                                                                 \n",
            "                                                                                                  \n",
            " up_sampling2d (UpSampling2D)   (None, 64, 64, 1024  0           ['dropout_1[0][0]']              \n",
            "                                )                                                                 \n",
            "                                                                                                  \n",
            " conv2d_10 (Conv2D)             (None, 64, 64, 512)  2097664     ['up_sampling2d[0][0]']          \n",
            "                                                                                                  \n",
            " concatenate (Concatenate)      (None, 64, 64, 1024  0           ['dropout[0][0]',                \n",
            "                                )                                 'conv2d_10[0][0]']              \n",
            "                                                                                                  \n",
            " conv2d_11 (Conv2D)             (None, 64, 64, 512)  4719104     ['concatenate[0][0]']            \n",
            "                                                                                                  \n",
            " conv2d_12 (Conv2D)             (None, 64, 64, 512)  2359808     ['conv2d_11[0][0]']              \n",
            "                                                                                                  \n",
            " up_sampling2d_1 (UpSampling2D)  (None, 128, 128, 51  0          ['conv2d_12[0][0]']              \n",
            "                                2)                                                                \n",
            "                                                                                                  \n",
            " conv2d_13 (Conv2D)             (None, 128, 128, 25  524544      ['up_sampling2d_1[0][0]']        \n",
            "                                6)                                                                \n",
            "                                                                                                  \n",
            " concatenate_1 (Concatenate)    (None, 128, 128, 51  0           ['conv2d_5[0][0]',               \n",
            "                                2)                                'conv2d_13[0][0]']              \n",
            "                                                                                                  \n",
            " conv2d_14 (Conv2D)             (None, 128, 128, 25  1179904     ['concatenate_1[0][0]']          \n",
            "                                6)                                                                \n",
            "                                                                                                  \n",
            " conv2d_15 (Conv2D)             (None, 128, 128, 25  590080      ['conv2d_14[0][0]']              \n",
            "                                6)                                                                \n",
            "                                                                                                  \n",
            " up_sampling2d_2 (UpSampling2D)  (None, 256, 256, 25  0          ['conv2d_15[0][0]']              \n",
            "                                6)                                                                \n",
            "                                                                                                  \n",
            " conv2d_16 (Conv2D)             (None, 256, 256, 12  131200      ['up_sampling2d_2[0][0]']        \n",
            "                                8)                                                                \n",
            "                                                                                                  \n",
            " concatenate_2 (Concatenate)    (None, 256, 256, 25  0           ['conv2d_3[0][0]',               \n",
            "                                6)                                'conv2d_16[0][0]']              \n",
            "                                                                                                  \n",
            " conv2d_17 (Conv2D)             (None, 256, 256, 12  295040      ['concatenate_2[0][0]']          \n",
            "                                8)                                                                \n",
            "                                                                                                  \n",
            " conv2d_18 (Conv2D)             (None, 256, 256, 12  147584      ['conv2d_17[0][0]']              \n",
            "                                8)                                                                \n",
            "                                                                                                  \n",
            " up_sampling2d_3 (UpSampling2D)  (None, 512, 512, 12  0          ['conv2d_18[0][0]']              \n",
            "                                8)                                                                \n",
            "                                                                                                  \n",
            " conv2d_19 (Conv2D)             (None, 512, 512, 64  32832       ['up_sampling2d_3[0][0]']        \n",
            "                                )                                                                 \n",
            "                                                                                                  \n",
            " concatenate_3 (Concatenate)    (None, 512, 512, 12  0           ['conv2d_1[0][0]',               \n",
            "                                8)                                'conv2d_19[0][0]']              \n",
            "                                                                                                  \n",
            " conv2d_20 (Conv2D)             (None, 512, 512, 64  73792       ['concatenate_3[0][0]']          \n",
            "                                )                                                                 \n",
            "                                                                                                  \n",
            " conv2d_21 (Conv2D)             (None, 512, 512, 64  36928       ['conv2d_20[0][0]']              \n",
            "                                )                                                                 \n",
            "                                                                                                  \n",
            " conv2d_22 (Conv2D)             (None, 512, 512, 2)  1154        ['conv2d_21[0][0]']              \n",
            "                                                                                                  \n",
            " conv2d_23 (Conv2D)             (None, 512, 512, 1)  3           ['conv2d_22[0][0]']              \n",
            "                                                                                                  \n",
            "==================================================================================================\n",
            "Total params: 31,031,685\n",
            "Trainable params: 31,031,685\n",
            "Non-trainable params: 0\n",
            "__________________________________________________________________________________________________\n"
          ]
        },
        {
          "output_type": "stream",
          "name": "stderr",
          "text": [
            "/usr/local/lib/python3.8/dist-packages/keras/optimizers/optimizer_v2/adam.py:117: UserWarning: The `lr` argument is deprecated, use `learning_rate` instead.\n",
            "  super().__init__(name, **kwargs)\n"
          ]
        }
      ],
      "source": [
        "# laod model and show the model summary\n",
        "model = unet()\n",
        "model_checkpoint = ModelCheckpoint('windTurbine_segmentation.hdf5', monitor='loss',verbose=1, save_best_only=True)\n",
        "model.summary()"
      ]
    },
    {
      "cell_type": "code",
      "execution_count": 16,
      "metadata": {
        "colab": {
          "base_uri": "https://localhost:8080/"
        },
        "id": "lei_NweBaBmf",
        "outputId": "cb118131-6b22-41c4-e09d-5e235a31ff85"
      },
      "outputs": [
        {
          "output_type": "stream",
          "name": "stdout",
          "text": [
            "Epoch 1/50\n",
            "7/7 [==============================] - ETA: 0s - loss: 0.3034 - dice_coef: 7.7041e-04\n",
            "Epoch 1: loss improved from inf to 0.30336, saving model to windTurbine_segmentation.hdf5\n",
            "7/7 [==============================] - 115s 13s/step - loss: 0.3034 - dice_coef: 7.7041e-04 - val_loss: 0.0036 - val_dice_coef: 0.0011\n",
            "Epoch 2/50\n",
            "7/7 [==============================] - ETA: 0s - loss: 7.1114e-04 - dice_coef: 0.0066\n",
            "Epoch 2: loss improved from 0.30336 to 0.00071, saving model to windTurbine_segmentation.hdf5\n",
            "7/7 [==============================] - 23s 3s/step - loss: 7.1114e-04 - dice_coef: 0.0066 - val_loss: 5.0118e-04 - val_dice_coef: 0.0076\n",
            "Epoch 3/50\n",
            "7/7 [==============================] - ETA: 0s - loss: 4.7329e-04 - dice_coef: 0.0081\n",
            "Epoch 3: loss improved from 0.00071 to 0.00047, saving model to windTurbine_segmentation.hdf5\n",
            "7/7 [==============================] - 23s 3s/step - loss: 4.7329e-04 - dice_coef: 0.0081 - val_loss: 4.9860e-04 - val_dice_coef: 0.0076\n",
            "Epoch 4/50\n",
            "7/7 [==============================] - ETA: 0s - loss: 4.7301e-04 - dice_coef: 0.0081\n",
            "Epoch 4: loss improved from 0.00047 to 0.00047, saving model to windTurbine_segmentation.hdf5\n",
            "7/7 [==============================] - 20s 3s/step - loss: 4.7301e-04 - dice_coef: 0.0081 - val_loss: 4.9855e-04 - val_dice_coef: 0.0076\n",
            "Epoch 5/50\n",
            "7/7 [==============================] - ETA: 0s - loss: 4.7301e-04 - dice_coef: 0.0081\n",
            "Epoch 5: loss improved from 0.00047 to 0.00047, saving model to windTurbine_segmentation.hdf5\n",
            "7/7 [==============================] - 19s 3s/step - loss: 4.7301e-04 - dice_coef: 0.0081 - val_loss: 4.9855e-04 - val_dice_coef: 0.0076\n",
            "Epoch 6/50\n",
            "7/7 [==============================] - ETA: 0s - loss: 4.7301e-04 - dice_coef: 0.0081\n",
            "Epoch 6: loss improved from 0.00047 to 0.00047, saving model to windTurbine_segmentation.hdf5\n",
            "7/7 [==============================] - 20s 3s/step - loss: 4.7301e-04 - dice_coef: 0.0081 - val_loss: 4.9855e-04 - val_dice_coef: 0.0076\n",
            "Epoch 7/50\n",
            "7/7 [==============================] - ETA: 0s - loss: 4.7301e-04 - dice_coef: 0.0081\n",
            "Epoch 7: loss did not improve from 0.00047\n",
            "7/7 [==============================] - 18s 3s/step - loss: 4.7301e-04 - dice_coef: 0.0081 - val_loss: 4.9855e-04 - val_dice_coef: 0.0076\n",
            "Epoch 8/50\n",
            "7/7 [==============================] - ETA: 0s - loss: 4.7301e-04 - dice_coef: 0.0081\n",
            "Epoch 8: loss did not improve from 0.00047\n",
            "7/7 [==============================] - 18s 3s/step - loss: 4.7301e-04 - dice_coef: 0.0081 - val_loss: 4.9855e-04 - val_dice_coef: 0.0076\n",
            "Epoch 9/50\n",
            "7/7 [==============================] - ETA: 0s - loss: 4.7301e-04 - dice_coef: 0.0081\n",
            "Epoch 9: loss did not improve from 0.00047\n",
            "7/7 [==============================] - 18s 3s/step - loss: 4.7301e-04 - dice_coef: 0.0081 - val_loss: 4.9855e-04 - val_dice_coef: 0.0076\n",
            "Epoch 10/50\n",
            "7/7 [==============================] - ETA: 0s - loss: 4.7301e-04 - dice_coef: 0.0081\n",
            "Epoch 10: loss did not improve from 0.00047\n",
            "7/7 [==============================] - 18s 3s/step - loss: 4.7301e-04 - dice_coef: 0.0081 - val_loss: 4.9855e-04 - val_dice_coef: 0.0076\n",
            "Epoch 11/50\n",
            "7/7 [==============================] - ETA: 0s - loss: 4.7301e-04 - dice_coef: 0.0081\n",
            "Epoch 11: loss did not improve from 0.00047\n",
            "7/7 [==============================] - 18s 3s/step - loss: 4.7301e-04 - dice_coef: 0.0081 - val_loss: 4.9855e-04 - val_dice_coef: 0.0076\n",
            "Epoch 12/50\n",
            "7/7 [==============================] - ETA: 0s - loss: 4.7301e-04 - dice_coef: 0.0081\n",
            "Epoch 12: loss did not improve from 0.00047\n",
            "7/7 [==============================] - 18s 3s/step - loss: 4.7301e-04 - dice_coef: 0.0081 - val_loss: 4.9855e-04 - val_dice_coef: 0.0076\n",
            "Epoch 13/50\n",
            "7/7 [==============================] - ETA: 0s - loss: 4.7301e-04 - dice_coef: 0.0081\n",
            "Epoch 13: loss did not improve from 0.00047\n",
            "7/7 [==============================] - 18s 3s/step - loss: 4.7301e-04 - dice_coef: 0.0081 - val_loss: 4.9855e-04 - val_dice_coef: 0.0076\n",
            "Epoch 14/50\n",
            "7/7 [==============================] - ETA: 0s - loss: 4.7301e-04 - dice_coef: 0.0081\n",
            "Epoch 14: loss improved from 0.00047 to 0.00047, saving model to windTurbine_segmentation.hdf5\n",
            "7/7 [==============================] - 22s 3s/step - loss: 4.7301e-04 - dice_coef: 0.0081 - val_loss: 4.9855e-04 - val_dice_coef: 0.0076\n",
            "Epoch 15/50\n",
            "7/7 [==============================] - ETA: 0s - loss: 4.7301e-04 - dice_coef: 0.0081\n",
            "Epoch 15: loss did not improve from 0.00047\n",
            "7/7 [==============================] - 18s 3s/step - loss: 4.7301e-04 - dice_coef: 0.0081 - val_loss: 4.9855e-04 - val_dice_coef: 0.0076\n",
            "Epoch 16/50\n",
            "7/7 [==============================] - ETA: 0s - loss: 4.7301e-04 - dice_coef: 0.0081\n",
            "Epoch 16: loss did not improve from 0.00047\n",
            "7/7 [==============================] - 18s 3s/step - loss: 4.7301e-04 - dice_coef: 0.0081 - val_loss: 4.9855e-04 - val_dice_coef: 0.0076\n",
            "Epoch 17/50\n",
            "7/7 [==============================] - ETA: 0s - loss: 4.7301e-04 - dice_coef: 0.0081\n",
            "Epoch 17: loss did not improve from 0.00047\n",
            "7/7 [==============================] - 18s 3s/step - loss: 4.7301e-04 - dice_coef: 0.0081 - val_loss: 4.9855e-04 - val_dice_coef: 0.0076\n",
            "Epoch 18/50\n",
            "7/7 [==============================] - ETA: 0s - loss: 4.7301e-04 - dice_coef: 0.0081\n",
            "Epoch 18: loss did not improve from 0.00047\n",
            "7/7 [==============================] - 18s 3s/step - loss: 4.7301e-04 - dice_coef: 0.0081 - val_loss: 4.9855e-04 - val_dice_coef: 0.0076\n",
            "Epoch 19/50\n",
            "7/7 [==============================] - ETA: 0s - loss: 4.7301e-04 - dice_coef: 0.0081\n",
            "Epoch 19: loss did not improve from 0.00047\n",
            "7/7 [==============================] - 18s 3s/step - loss: 4.7301e-04 - dice_coef: 0.0081 - val_loss: 4.9855e-04 - val_dice_coef: 0.0076\n",
            "Epoch 20/50\n",
            "7/7 [==============================] - ETA: 0s - loss: 4.7301e-04 - dice_coef: 0.0081\n",
            "Epoch 20: loss did not improve from 0.00047\n",
            "7/7 [==============================] - 18s 3s/step - loss: 4.7301e-04 - dice_coef: 0.0081 - val_loss: 4.9855e-04 - val_dice_coef: 0.0076\n",
            "Epoch 21/50\n",
            "7/7 [==============================] - ETA: 0s - loss: 4.7301e-04 - dice_coef: 0.0081\n",
            "Epoch 21: loss did not improve from 0.00047\n",
            "7/7 [==============================] - 18s 3s/step - loss: 4.7301e-04 - dice_coef: 0.0081 - val_loss: 4.9855e-04 - val_dice_coef: 0.0076\n",
            "Epoch 22/50\n",
            "7/7 [==============================] - ETA: 0s - loss: 4.7301e-04 - dice_coef: 0.0081\n",
            "Epoch 22: loss did not improve from 0.00047\n",
            "7/7 [==============================] - 18s 3s/step - loss: 4.7301e-04 - dice_coef: 0.0081 - val_loss: 4.9855e-04 - val_dice_coef: 0.0076\n",
            "Epoch 23/50\n",
            "7/7 [==============================] - ETA: 0s - loss: 4.7301e-04 - dice_coef: 0.0081\n",
            "Epoch 23: loss did not improve from 0.00047\n",
            "7/7 [==============================] - 18s 3s/step - loss: 4.7301e-04 - dice_coef: 0.0081 - val_loss: 4.9855e-04 - val_dice_coef: 0.0076\n",
            "Epoch 24/50\n",
            "7/7 [==============================] - ETA: 0s - loss: 4.7301e-04 - dice_coef: 0.0081\n",
            "Epoch 24: loss did not improve from 0.00047\n",
            "7/7 [==============================] - 18s 3s/step - loss: 4.7301e-04 - dice_coef: 0.0081 - val_loss: 4.9855e-04 - val_dice_coef: 0.0076\n",
            "Epoch 25/50\n",
            "7/7 [==============================] - ETA: 0s - loss: 4.7301e-04 - dice_coef: 0.0081\n",
            "Epoch 25: loss did not improve from 0.00047\n",
            "7/7 [==============================] - 18s 3s/step - loss: 4.7301e-04 - dice_coef: 0.0081 - val_loss: 4.9855e-04 - val_dice_coef: 0.0076\n",
            "Epoch 26/50\n",
            "7/7 [==============================] - ETA: 0s - loss: 4.7301e-04 - dice_coef: 0.0081\n",
            "Epoch 26: loss did not improve from 0.00047\n",
            "7/7 [==============================] - 18s 3s/step - loss: 4.7301e-04 - dice_coef: 0.0081 - val_loss: 4.9855e-04 - val_dice_coef: 0.0076\n",
            "Epoch 27/50\n",
            "7/7 [==============================] - ETA: 0s - loss: 4.7301e-04 - dice_coef: 0.0081\n",
            "Epoch 27: loss did not improve from 0.00047\n",
            "7/7 [==============================] - 18s 3s/step - loss: 4.7301e-04 - dice_coef: 0.0081 - val_loss: 4.9855e-04 - val_dice_coef: 0.0076\n",
            "Epoch 28/50\n",
            "7/7 [==============================] - ETA: 0s - loss: 4.7301e-04 - dice_coef: 0.0081\n",
            "Epoch 28: loss did not improve from 0.00047\n",
            "7/7 [==============================] - 18s 3s/step - loss: 4.7301e-04 - dice_coef: 0.0081 - val_loss: 4.9855e-04 - val_dice_coef: 0.0076\n",
            "Epoch 29/50\n",
            "7/7 [==============================] - ETA: 0s - loss: 4.7301e-04 - dice_coef: 0.0081\n",
            "Epoch 29: loss did not improve from 0.00047\n",
            "7/7 [==============================] - 18s 3s/step - loss: 4.7301e-04 - dice_coef: 0.0081 - val_loss: 4.9855e-04 - val_dice_coef: 0.0076\n",
            "Epoch 30/50\n",
            "7/7 [==============================] - ETA: 0s - loss: 4.7301e-04 - dice_coef: 0.0081\n",
            "Epoch 30: loss did not improve from 0.00047\n",
            "7/7 [==============================] - 18s 3s/step - loss: 4.7301e-04 - dice_coef: 0.0081 - val_loss: 4.9855e-04 - val_dice_coef: 0.0076\n",
            "Epoch 31/50\n",
            "7/7 [==============================] - ETA: 0s - loss: 4.7301e-04 - dice_coef: 0.0081\n",
            "Epoch 31: loss did not improve from 0.00047\n",
            "7/7 [==============================] - 18s 3s/step - loss: 4.7301e-04 - dice_coef: 0.0081 - val_loss: 4.9855e-04 - val_dice_coef: 0.0076\n",
            "Epoch 32/50\n",
            "7/7 [==============================] - ETA: 0s - loss: 4.7301e-04 - dice_coef: 0.0081\n",
            "Epoch 32: loss did not improve from 0.00047\n",
            "7/7 [==============================] - 18s 3s/step - loss: 4.7301e-04 - dice_coef: 0.0081 - val_loss: 4.9855e-04 - val_dice_coef: 0.0076\n",
            "Epoch 33/50\n",
            "7/7 [==============================] - ETA: 0s - loss: 4.7301e-04 - dice_coef: 0.0081\n",
            "Epoch 33: loss did not improve from 0.00047\n",
            "7/7 [==============================] - 18s 3s/step - loss: 4.7301e-04 - dice_coef: 0.0081 - val_loss: 4.9855e-04 - val_dice_coef: 0.0076\n",
            "Epoch 34/50\n",
            "7/7 [==============================] - ETA: 0s - loss: 4.7301e-04 - dice_coef: 0.0081\n",
            "Epoch 34: loss did not improve from 0.00047\n",
            "7/7 [==============================] - 18s 3s/step - loss: 4.7301e-04 - dice_coef: 0.0081 - val_loss: 4.9855e-04 - val_dice_coef: 0.0076\n",
            "Epoch 35/50\n",
            "7/7 [==============================] - ETA: 0s - loss: 4.7301e-04 - dice_coef: 0.0081\n",
            "Epoch 35: loss did not improve from 0.00047\n",
            "7/7 [==============================] - 18s 3s/step - loss: 4.7301e-04 - dice_coef: 0.0081 - val_loss: 4.9855e-04 - val_dice_coef: 0.0076\n",
            "Epoch 36/50\n",
            "7/7 [==============================] - ETA: 0s - loss: 4.7301e-04 - dice_coef: 0.0081\n",
            "Epoch 36: loss did not improve from 0.00047\n",
            "7/7 [==============================] - 18s 3s/step - loss: 4.7301e-04 - dice_coef: 0.0081 - val_loss: 4.9855e-04 - val_dice_coef: 0.0076\n",
            "Epoch 37/50\n",
            "7/7 [==============================] - ETA: 0s - loss: 4.7301e-04 - dice_coef: 0.0081\n",
            "Epoch 37: loss did not improve from 0.00047\n",
            "7/7 [==============================] - 18s 3s/step - loss: 4.7301e-04 - dice_coef: 0.0081 - val_loss: 4.9855e-04 - val_dice_coef: 0.0076\n",
            "Epoch 38/50\n",
            "7/7 [==============================] - ETA: 0s - loss: 4.7301e-04 - dice_coef: 0.0081\n",
            "Epoch 38: loss did not improve from 0.00047\n",
            "7/7 [==============================] - 18s 3s/step - loss: 4.7301e-04 - dice_coef: 0.0081 - val_loss: 4.9855e-04 - val_dice_coef: 0.0076\n",
            "Epoch 39/50\n",
            "7/7 [==============================] - ETA: 0s - loss: 4.7301e-04 - dice_coef: 0.0081\n",
            "Epoch 39: loss did not improve from 0.00047\n",
            "7/7 [==============================] - 18s 3s/step - loss: 4.7301e-04 - dice_coef: 0.0081 - val_loss: 4.9855e-04 - val_dice_coef: 0.0076\n",
            "Epoch 40/50\n",
            "7/7 [==============================] - ETA: 0s - loss: 4.7301e-04 - dice_coef: 0.0081\n",
            "Epoch 40: loss did not improve from 0.00047\n",
            "7/7 [==============================] - 18s 3s/step - loss: 4.7301e-04 - dice_coef: 0.0081 - val_loss: 4.9855e-04 - val_dice_coef: 0.0076\n",
            "Epoch 41/50\n",
            "7/7 [==============================] - ETA: 0s - loss: 4.7301e-04 - dice_coef: 0.0081\n",
            "Epoch 41: loss did not improve from 0.00047\n",
            "7/7 [==============================] - 18s 3s/step - loss: 4.7301e-04 - dice_coef: 0.0081 - val_loss: 4.9855e-04 - val_dice_coef: 0.0076\n",
            "Epoch 42/50\n",
            "7/7 [==============================] - ETA: 0s - loss: 4.7301e-04 - dice_coef: 0.0081\n",
            "Epoch 42: loss did not improve from 0.00047\n",
            "7/7 [==============================] - 18s 3s/step - loss: 4.7301e-04 - dice_coef: 0.0081 - val_loss: 4.9855e-04 - val_dice_coef: 0.0076\n",
            "Epoch 43/50\n",
            "7/7 [==============================] - ETA: 0s - loss: 4.7301e-04 - dice_coef: 0.0081\n",
            "Epoch 43: loss did not improve from 0.00047\n",
            "7/7 [==============================] - 18s 3s/step - loss: 4.7301e-04 - dice_coef: 0.0081 - val_loss: 4.9855e-04 - val_dice_coef: 0.0076\n",
            "Epoch 44/50\n",
            "7/7 [==============================] - ETA: 0s - loss: 4.7301e-04 - dice_coef: 0.0081\n",
            "Epoch 44: loss did not improve from 0.00047\n",
            "7/7 [==============================] - 18s 3s/step - loss: 4.7301e-04 - dice_coef: 0.0081 - val_loss: 4.9855e-04 - val_dice_coef: 0.0076\n",
            "Epoch 45/50\n",
            "7/7 [==============================] - ETA: 0s - loss: 4.7301e-04 - dice_coef: 0.0081\n",
            "Epoch 45: loss did not improve from 0.00047\n",
            "7/7 [==============================] - 18s 3s/step - loss: 4.7301e-04 - dice_coef: 0.0081 - val_loss: 4.9855e-04 - val_dice_coef: 0.0076\n",
            "Epoch 46/50\n",
            "7/7 [==============================] - ETA: 0s - loss: 4.7301e-04 - dice_coef: 0.0081\n",
            "Epoch 46: loss did not improve from 0.00047\n",
            "7/7 [==============================] - 18s 3s/step - loss: 4.7301e-04 - dice_coef: 0.0081 - val_loss: 4.9855e-04 - val_dice_coef: 0.0076\n",
            "Epoch 47/50\n",
            "7/7 [==============================] - ETA: 0s - loss: 4.7301e-04 - dice_coef: 0.0081\n",
            "Epoch 47: loss did not improve from 0.00047\n",
            "7/7 [==============================] - 18s 3s/step - loss: 4.7301e-04 - dice_coef: 0.0081 - val_loss: 4.9855e-04 - val_dice_coef: 0.0076\n",
            "Epoch 48/50\n",
            "7/7 [==============================] - ETA: 0s - loss: 4.7301e-04 - dice_coef: 0.0081\n",
            "Epoch 48: loss did not improve from 0.00047\n",
            "7/7 [==============================] - 18s 3s/step - loss: 4.7301e-04 - dice_coef: 0.0081 - val_loss: 4.9855e-04 - val_dice_coef: 0.0076\n",
            "Epoch 49/50\n",
            "7/7 [==============================] - ETA: 0s - loss: 4.7301e-04 - dice_coef: 0.0081\n",
            "Epoch 49: loss did not improve from 0.00047\n",
            "7/7 [==============================] - 18s 3s/step - loss: 4.7301e-04 - dice_coef: 0.0081 - val_loss: 4.9855e-04 - val_dice_coef: 0.0076\n",
            "Epoch 50/50\n",
            "7/7 [==============================] - ETA: 0s - loss: 4.7301e-04 - dice_coef: 0.0081\n",
            "Epoch 50: loss did not improve from 0.00047\n",
            "7/7 [==============================] - 18s 3s/step - loss: 4.7301e-04 - dice_coef: 0.0081 - val_loss: 4.9855e-04 - val_dice_coef: 0.0076\n"
          ]
        },
        {
          "output_type": "execute_result",
          "data": {
            "text/plain": [
              "<keras.callbacks.History at 0x7f4584b4de80>"
            ]
          },
          "metadata": {},
          "execution_count": 16
        }
      ],
      "source": [
        "# train the model\n",
        "hm_epochs = 50\n",
        "batch_size = 8\n",
        "model.fit(imgs_train, imgs_mask_train, batch_size=batch_size, epochs=hm_epochs, verbose=1,\n",
        "          validation_split=0.2, shuffle=True, callbacks=[model_checkpoint])"
      ]
    },
    {
      "cell_type": "code",
      "execution_count": null,
      "metadata": {
        "id": "dmI-V30naBmg",
        "outputId": "a40594a2-530b-421b-a06f-7965d84dad70"
      },
      "outputs": [
        {
          "name": "stdout",
          "output_type": "stream",
          "text": [
            "30/30 [==============================] - 1s 26ms/step\n"
          ]
        },
        {
          "name": "stderr",
          "output_type": "stream",
          "text": [
            "Lossy conversion from float32 to uint8. Range [0, 1]. Convert image to uint8 prior to saving to suppress this warning.\n",
            "Lossy conversion from float32 to uint8. Range [0, 1]. Convert image to uint8 prior to saving to suppress this warning.\n",
            "Lossy conversion from float32 to uint8. Range [0, 1]. Convert image to uint8 prior to saving to suppress this warning.\n",
            "Lossy conversion from float32 to uint8. Range [0, 1]. Convert image to uint8 prior to saving to suppress this warning.\n",
            "Lossy conversion from float32 to uint8. Range [0, 1]. Convert image to uint8 prior to saving to suppress this warning.\n",
            "Lossy conversion from float32 to uint8. Range [0, 1]. Convert image to uint8 prior to saving to suppress this warning.\n",
            "Lossy conversion from float32 to uint8. Range [0, 1]. Convert image to uint8 prior to saving to suppress this warning.\n",
            "Lossy conversion from float32 to uint8. Range [0, 1]. Convert image to uint8 prior to saving to suppress this warning.\n",
            "Lossy conversion from float32 to uint8. Range [0, 1]. Convert image to uint8 prior to saving to suppress this warning.\n",
            "Lossy conversion from float32 to uint8. Range [0, 1]. Convert image to uint8 prior to saving to suppress this warning.\n",
            "Lossy conversion from float32 to uint8. Range [0, 1]. Convert image to uint8 prior to saving to suppress this warning.\n",
            "Lossy conversion from float32 to uint8. Range [0, 1]. Convert image to uint8 prior to saving to suppress this warning.\n",
            "Lossy conversion from float32 to uint8. Range [0, 1]. Convert image to uint8 prior to saving to suppress this warning.\n",
            "Lossy conversion from float32 to uint8. Range [0, 1]. Convert image to uint8 prior to saving to suppress this warning.\n",
            "Lossy conversion from float32 to uint8. Range [0, 1]. Convert image to uint8 prior to saving to suppress this warning.\n",
            "Lossy conversion from float32 to uint8. Range [0, 1]. Convert image to uint8 prior to saving to suppress this warning.\n",
            "Lossy conversion from float32 to uint8. Range [0, 1]. Convert image to uint8 prior to saving to suppress this warning.\n",
            "Lossy conversion from float32 to uint8. Range [0, 1]. Convert image to uint8 prior to saving to suppress this warning.\n",
            "Lossy conversion from float32 to uint8. Range [0, 1]. Convert image to uint8 prior to saving to suppress this warning.\n",
            "Lossy conversion from float32 to uint8. Range [0, 1]. Convert image to uint8 prior to saving to suppress this warning.\n",
            "Lossy conversion from float32 to uint8. Range [0, 1]. Convert image to uint8 prior to saving to suppress this warning.\n",
            "Lossy conversion from float32 to uint8. Range [0, 1]. Convert image to uint8 prior to saving to suppress this warning.\n",
            "Lossy conversion from float32 to uint8. Range [0, 1]. Convert image to uint8 prior to saving to suppress this warning.\n",
            "Lossy conversion from float32 to uint8. Range [0, 1]. Convert image to uint8 prior to saving to suppress this warning.\n",
            "Lossy conversion from float32 to uint8. Range [0, 1]. Convert image to uint8 prior to saving to suppress this warning.\n",
            "Lossy conversion from float32 to uint8. Range [0, 1]. Convert image to uint8 prior to saving to suppress this warning.\n",
            "Lossy conversion from float32 to uint8. Range [0, 1]. Convert image to uint8 prior to saving to suppress this warning.\n",
            "Lossy conversion from float32 to uint8. Range [0, 1]. Convert image to uint8 prior to saving to suppress this warning.\n",
            "Lossy conversion from float32 to uint8. Range [0, 1]. Convert image to uint8 prior to saving to suppress this warning.\n",
            "Lossy conversion from float32 to uint8. Range [0, 1]. Convert image to uint8 prior to saving to suppress this warning.\n"
          ]
        }
      ],
      "source": [
        "# testing with new images\n",
        "# the test image folder contains 30 images\n",
        "test_path = 'test/images/'\n",
        "test_image_arr = glob.glob(os.path.join(test_path, \"*.png\"))\n",
        "num_of_test_images = len(test_image_arr)\n",
        "\n",
        "testGene = testGenerator(test_path, num_of_test_images)\n",
        "\n",
        "results = model.predict_generator(testGene, num_of_test_images, verbose=1)\n",
        "\n",
        "# save the segmentation result in the \"outputs\" folder\n",
        "saveResult(\"outputs/\", results)"
      ]
    },
    {
      "cell_type": "code",
      "execution_count": null,
      "metadata": {
        "id": "RzRmHEGWaBmg",
        "outputId": "b1aa3e1a-77bb-441d-9e5f-1eb34c78f169"
      },
      "outputs": [
        {
          "name": "stdout",
          "output_type": "stream",
          "text": [
            "model loading...\n",
            "model loaded succesfully!!!\n"
          ]
        }
      ],
      "source": [
        "# load the trained model\n",
        "print(\"model loading...\")\n",
        "trained_model = load_model('fiber_segmentation.hdf5')\n",
        "print(\"model loaded succesfully!!!\")"
      ]
    }
  ],
  "metadata": {
    "kernelspec": {
      "display_name": "Python 3",
      "language": "python",
      "name": "python3"
    },
    "language_info": {
      "codemirror_mode": {
        "name": "ipython",
        "version": 3
      },
      "file_extension": ".py",
      "mimetype": "text/x-python",
      "name": "python",
      "nbconvert_exporter": "python",
      "pygments_lexer": "ipython3",
      "version": "3.6.8"
    },
    "colab": {
      "provenance": [],
      "include_colab_link": true
    },
    "accelerator": "GPU",
    "gpuClass": "standard"
  },
  "nbformat": 4,
  "nbformat_minor": 0
}